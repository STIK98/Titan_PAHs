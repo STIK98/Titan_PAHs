{
 "cells": [
  {
   "cell_type": "code",
   "execution_count": null,
   "metadata": {},
   "outputs": [],
   "source": [
    "#import packages\n",
    "import numpy as np\n",
    "import matplotlib.pyplot as plt\n",
    "import pandas as pd\n",
    "import re"
   ]
  },
  {
   "cell_type": "code",
   "execution_count": 1,
   "metadata": {},
   "outputs": [
    {
     "name": "stdout",
     "output_type": "stream",
     "text": [
      "=========================================================\n",
      "                  NO UPDATE AVAILABLE                  \n",
      "=========================================================\n",
      "\n",
      "=========================================================\n",
      "             RESTORING DATABASE FROM CACHE             \n",
      "=========================================================\n",
      "\n",
      "==\n",
      "FILENAME                    : /var/folders/vv/2nq91_0d0lsfm6gcskyz__r40000gn/T/a80b922979ad89624d56b35e6a3a1f28.pkl\n",
      "ORIGNINAL FILENAME          : /Users/floorstikkelbroeck/Documents/Titan/PAHdb/pahdb-theoretical-v1.20.xml\n",
      "PARSE TIME                  : 0:00:00.093657\n",
      "DATABASE                    : theoretical\n",
      "VERSION (DATE)              : 1.20 (2011-01-13)\n",
      "COMMENT                     : \n",
      "\n",
      "This is the NASA Ames PAH IR Spectroscopic Database. The contents of\n",
      "the database are described in Bauschlicher et al. (2010), Boersma et\n",
      "al. (2014) and Mattioda et al. (2020). The database website is located\n",
      "at https://www.astrochemistry.org/pahdb/.\n",
      "\n",
      "You are kindly asked to cite the following papers when using the database:\n",
      "\n",
      "    Boersma, C., Bauschlicher, C.W., Jr., Ricca, A., Mattioda, A. L.,\n",
      "    Cami, J., Peeters, E., Sánchez de Armas, F., Puerta Saborido, G.,\n",
      "    Hudgins, D M., and Allamandola, L.J., \"The NASA Ames PAH IR Spectroscopic\n",
      "    database version 2.00: updated content, website and on/offline tools\",\n",
      "    2014, The Astrophysical Journal Supplement Series, 211, 8\n",
      "\n",
      "    A copy of the paper can be downloaded from NASA&apos;s ADS services:\n",
      "\n",
      "    http://adsabs.harvard.edu/cgi-bin/nph-data_query?bibcode=2014ApJS..211....8B&link_type=ARTICLE&db_key=AST&nocookies=1\n",
      "\n",
      "    Bauschlicher, C.W., Jr., Boersma, C., Ricca, A., Mattioda, A. L.,\n",
      "    Cami, J., Peeters, E., Sánchez de Armas, F., Puerta Saborido, G.,\n",
      "    Hudgins, D M., and Allamandola, L.J., \"The NASA Ames Polycyclic\n",
      "    Aromatic Hydrocarbon Infrared Spectroscopic Database: The Computed\n",
      "    Spectra\", 2010, The Astrophysical Journal Supplement Series, 189, 341\n",
      "\n",
      "    A copy of the paper can be downloaded from NASA&apos;s ADS services:\n",
      "\n",
      "    http://adsabs.harvard.edu/cgi-bin/nph-data_query?bibcode=2010ApJS..189..341B&link_type=ARTICLE&db_key=AST&nocookies=1\n",
      "\n",
      "    Mattioda, A.L., Hudgins, D.M., Boersma, C., Ricca, A., Peeters,\n",
      "    E., Cami, J., Sánches de Armas, F., Puerta Saborido, G.,\n",
      "    Bauschlicher, C W., J., and Allamandola, L.J. \"The Nasa Ames PAH\n",
      "    IR Spectroscopic Database: The Laboratory Spectra\", 2020, The\n",
      "    Astrophysical Journal Supplement Series, 251, 22\n",
      "\n",
      "    A copy of the paper can be downloaded from NASA&apos;s ADS services:\n",
      "\n",
      "    http://adsabs.harvard.edu/cgi-bin/nph-data_query?bibcode=2020ApJS..251...22M &link_type=ARTICLE&db_key=AST&nocookies=1\n",
      "\n",
      "    Also see https://www.astrochemistry.org/pahdb/theoretical/3.20/help/citation.\n",
      "Notes:\n",
      "    Complete theoretical database\n",
      "\n",
      "==\n",
      "\n",
      "=========================================================\n",
      "            APPLYING CASCADE EMISSION MODEL            \n",
      "=========================================================\n",
      "\n",
      "=========================================================\n",
      " STELLAR MODEL SELECTED: USING FIRST PARAMETER AS MODEL\n",
      "=========================================================\n",
      "\n",
      "=========================================================\n",
      "          REBINNING STELLAR MODEL: 100 POINTS          \n",
      "=========================================================\n",
      "\n",
      "=========================================================\n",
      "CALCULATED EFFECTIVE TEMPERATURE: 126.24990828203458 Kelvin\n",
      "=========================================================\n",
      "\n",
      "=========================================================\n",
      "         CONVOLVING WITH ENTIRE RADIATION FIELD        \n",
      "=========================================================\n",
      "\n",
      "=========================================================\n",
      "SPECIES                          : 1/19\n",
      "UID                              : 143\n",
      "MEAN ABSORBED ENERGY             : 2.9808051063939165 +/- 0.7816912877560188 eV\n",
      "MAXIMUM ATTAINED TEMPERATURE     : 570.1421441460444 Kelvin\n",
      "ENERGY CONSERVATION IN SPECTRUM  : 0.9907889219373076\n",
      "ELAPSED TIME                     : 0:00:38.571403\n",
      "=========================================================\n",
      "SPECIES                          : 2/19\n",
      "UID                              : 527\n",
      "MEAN ABSORBED ENERGY             : 3.4418273791215395 +/- 0.6932791822380984 eV\n",
      "MAXIMUM ATTAINED TEMPERATURE     : 1432.3333243176196 Kelvin\n",
      "ENERGY CONSERVATION IN SPECTRUM  : 1.023016352466432\n",
      "ELAPSED TIME                     : 0:00:08.273426\n",
      "=========================================================\n",
      "SPECIES                          : 3/19\n",
      "UID                              : 356\n",
      "MEAN ABSORBED ENERGY             : 3.1551345708662186 +/- 0.7317845611154451 eV\n",
      "MAXIMUM ATTAINED TEMPERATURE     : 858.2169588770703 Kelvin\n",
      "ENERGY CONSERVATION IN SPECTRUM  : 0.9963456315458977\n",
      "ELAPSED TIME                     : 0:00:09.938699\n",
      "=========================================================\n",
      "SPECIES                          : 4/19\n",
      "UID                              : 174\n",
      "MEAN ABSORBED ENERGY             : 2.938674951060978 +/- 0.7994911625510688 eV\n",
      "MAXIMUM ATTAINED TEMPERATURE     : 450.9467703715199 Kelvin\n",
      "ENERGY CONSERVATION IN SPECTRUM  : 0.9905099338544495\n",
      "ELAPSED TIME                     : 0:00:32.186861\n",
      "=========================================================\n",
      "SPECIES                          : 5/19\n",
      "UID                              : 276\n",
      "MEAN ABSORBED ENERGY             : 3.3268940688726403 +/- 0.7050858056245212 eV\n",
      "MAXIMUM ATTAINED TEMPERATURE     : 1222.7819193672008 Kelvin\n",
      "ENERGY CONSERVATION IN SPECTRUM  : 0.9484839612642343\n",
      "ELAPSED TIME                     : 0:00:10.444539\n",
      "=========================================================\n",
      "SPECIES                          : 6/19\n",
      "UID                              : 493\n",
      "MEAN ABSORBED ENERGY             : 3.4953079921314014 +/- 0.688398892085182 eV\n",
      "MAXIMUM ATTAINED TEMPERATURE     : 1664.0420076655241 Kelvin\n",
      "ENERGY CONSERVATION IN SPECTRUM  : 1.0340265411732952\n",
      "ELAPSED TIME                     : 0:00:08.113745\n",
      "=========================================================\n",
      "SPECIES                          : 7/19\n",
      "UID                              : 299\n",
      "MEAN ABSORBED ENERGY             : 3.249588652403072 +/- 0.7152440723675983 eV\n",
      "MAXIMUM ATTAINED TEMPERATURE     : 1042.5239202684531 Kelvin\n",
      "ENERGY CONSERVATION IN SPECTRUM  : 0.9983710479705133\n",
      "ELAPSED TIME                     : 0:00:07.148048\n",
      "=========================================================\n",
      "SPECIES                          : 8/19\n",
      "UID                              : 149\n",
      "MEAN ABSORBED ENERGY             : 2.9769602163874884 +/- 0.7831785704408434 eV\n",
      "MAXIMUM ATTAINED TEMPERATURE     : 562.7685644828806 Kelvin\n",
      "ENERGY CONSERVATION IN SPECTRUM  : 0.9891618171293827\n",
      "ELAPSED TIME                     : 0:00:48.943544\n",
      "=========================================================\n",
      "SPECIES                          : 9/19\n",
      "UID                              : 108\n",
      "MEAN ABSORBED ENERGY             : 2.9315762666662377 +/- 0.8028195196139306 eV\n",
      "MAXIMUM ATTAINED TEMPERATURE     : 427.6895164962003 Kelvin\n",
      "ENERGY CONSERVATION IN SPECTRUM  : 0.992953225127805\n",
      "ELAPSED TIME                     : 0:00:23.587415\n",
      "=========================================================\n",
      "SPECIES                          : 10/19\n",
      "UID                              : 473\n",
      "MEAN ABSORBED ENERGY             : 3.4418273791215395 +/- 0.6932791822380984 eV\n",
      "MAXIMUM ATTAINED TEMPERATURE     : 1388.4416982028072 Kelvin\n",
      "ENERGY CONSERVATION IN SPECTRUM  : 1.0230231947233983\n",
      "ELAPSED TIME                     : 0:00:08.943519\n",
      "=========================================================\n",
      "SPECIES                          : 11/19\n",
      "UID                              : 600\n",
      "MEAN ABSORBED ENERGY             : 2.9544154255715234 +/- 0.7924707419394463 eV\n",
      "MAXIMUM ATTAINED TEMPERATURE     : 507.60557453961144 Kelvin\n",
      "ENERGY CONSERVATION IN SPECTRUM  : 0.9851108822604029\n",
      "ELAPSED TIME                     : 0:01:01.113015\n",
      "=========================================================\n",
      "SPECIES                          : 12/19\n",
      "UID                              : 333\n",
      "MEAN ABSORBED ENERGY             : 3.4418273791215395 +/- 0.6932791822380984 eV\n",
      "MAXIMUM ATTAINED TEMPERATURE     : 1228.5655704211958 Kelvin\n",
      "ENERGY CONSERVATION IN SPECTRUM  : 1.0230271727367246\n",
      "ELAPSED TIME                     : 0:00:09.699584\n",
      "=========================================================\n",
      "SPECIES                          : 13/19\n",
      "UID                              : 385\n",
      "MEAN ABSORBED ENERGY             : 3.3597188382089804 +/- 0.7013598020100048 eV\n",
      "MAXIMUM ATTAINED TEMPERATURE     : 1365.7404540886644 Kelvin\n",
      "ENERGY CONSERVATION IN SPECTRUM  : 0.9607512897970376\n",
      "ELAPSED TIME                     : 0:00:07.347048\n",
      "=========================================================\n",
      "SPECIES                          : 14/19\n",
      "UID                              : 105\n",
      "MEAN ABSORBED ENERGY             : 2.994555206122003 +/- 0.7765104763167576 eV\n",
      "MAXIMUM ATTAINED TEMPERATURE     : 623.0181805490222 Kelvin\n",
      "ENERGY CONSERVATION IN SPECTRUM  : 0.9968114869317264\n",
      "ELAPSED TIME                     : 0:00:31.297884\n",
      "=========================================================\n",
      "SPECIES                          : 15/19\n",
      "UID                              : 519\n",
      "MEAN ABSORBED ENERGY             : 3.397421631029652 +/- 0.6974394372008963 eV\n",
      "MAXIMUM ATTAINED TEMPERATURE     : 1376.6608499780918 Kelvin\n",
      "ENERGY CONSERVATION IN SPECTRUM  : 0.9891461287194726\n",
      "ELAPSED TIME                     : 0:00:08.629239\n",
      "=========================================================\n",
      "SPECIES                          : 16/19\n",
      "UID                              : 267\n",
      "MEAN ABSORBED ENERGY             : 3.3597188382089804 +/- 0.7013598020100048 eV\n",
      "MAXIMUM ATTAINED TEMPERATURE     : 1256.9324915521006 Kelvin\n",
      "ENERGY CONSERVATION IN SPECTRUM  : 0.9607445054546595\n",
      "ELAPSED TIME                     : 0:00:04.004610\n",
      "=========================================================\n",
      "SPECIES                          : 17/19\n",
      "UID                              : 159\n",
      "MEAN ABSORBED ENERGY             : 3.1804749323685586 +/- 0.7267507839119051 eV\n",
      "MAXIMUM ATTAINED TEMPERATURE     : 985.6962254584698 Kelvin\n",
      "ENERGY CONSERVATION IN SPECTRUM  : 1.0103470572816304\n",
      "ELAPSED TIME                     : 0:00:07.103556\n",
      "=========================================================\n",
      "SPECIES                          : 18/19\n",
      "UID                              : 339\n",
      "MEAN ABSORBED ENERGY             : 3.297926454142736 +/- 0.708644518823633 eV\n",
      "MAXIMUM ATTAINED TEMPERATURE     : 1054.4067839006218 Kelvin\n",
      "ENERGY CONSERVATION IN SPECTRUM  : 0.9554581961072757\n",
      "ELAPSED TIME                     : 0:00:06.237394\n",
      "=========================================================\n",
      "SPECIES                          : 19/19\n",
      "UID                              : 358\n",
      "MEAN ABSORBED ENERGY             : 3.1804749323685586 +/- 0.7267507839119051 eV\n",
      "MAXIMUM ATTAINED TEMPERATURE     : 925.4341784823807 Kelvin\n",
      "ENERGY CONSERVATION IN SPECTRUM  : 1.010356076615719\n",
      "ELAPSED TIME                     : 0:00:07.552658\n",
      "=========================================================\n",
      "\n",
      "=========================================================\n",
      "   CACHING CASCADE: CAD809A150064DE9BFAB581C40D4686D   \n",
      "=========================================================\n",
      "\n",
      "=========================================================\n",
      "                 TOTAL SHIFT: -15.0 /cm                \n",
      "=========================================================\n",
      "\n",
      "=========================================================\n",
      "             USING LORENTZIAN LINE PROFILES            \n",
      "=========================================================\n",
      "\n",
      "=========================================================\n",
      "   GRID: (XMIN,XMAX)=(2942.284, 3177.963); 16 POINTS   \n",
      "=========================================================\n",
      "\n",
      "=========================================================\n",
      "                     FWHM: 15.0 /cm                    \n",
      "=========================================================\n",
      "\n"
     ]
    }
   ],
   "source": [
    "from Lopez import PAHPipeline, observations\n",
    "\n",
    "# === Step 1. Compute Cascade Once Using a Baseline Height (e.g. 900 km) ===\n",
    "\n",
    "# Choose a baseline height for which to compute the heavy cascade.\n",
    "baseline_height = 900\n",
    "pipeline = PAHPipeline(version=\"1.20\", height=baseline_height, filter_version=\"short\")\n",
    "\n",
    "# Compute and store the intermediate results.\n",
    "pahdb = pipeline.get_pahdb_instance()\n",
    "baseline_obs = pipeline.get_observations()  # This observation is only used for computing the cascade.\n",
    "transitions = pipeline.get_transitions()\n",
    "spectrum = pipeline.get_spectrum()          # This step is expensive."
   ]
  },
  {
   "cell_type": "code",
   "execution_count": 2,
   "metadata": {},
   "outputs": [
    {
     "name": "stdout",
     "output_type": "stream",
     "text": [
      "=========================================================\n",
      " NOTICE: PLEASE TAKE CONSIDERABLE CARE WHEN INTERPRETING \n",
      " THESE RESULTS AND PUTTING THEM IN AN ASTRONOMICAL       \n",
      " CONTEXT. THERE ARE MANY SUBTLETIES THAT NEED TO BE TAKEN\n",
      " INTO ACCOUNT, RANGING FROM PAH SIZE, INCLUSION OF       \n",
      " HETEROATOMS, ETC. TO DETAILS OF THE APPLIED EMISSION    \n",
      " MODEL, BEFORE ANY THOROUGH ASSESSMENT CAN BE MADE.      \n",
      "=========================================================\n",
      "\n"
     ]
    },
    {
     "name": "stderr",
     "output_type": "stream",
     "text": [
      "samples: 100%|\u001b[34m██████████\u001b[0m| 1000/1000 [00:01<00:00, 643.94samples/s]\n"
     ]
    },
    {
     "name": "stdout",
     "output_type": "stream",
     "text": [
      "=========================================================\n",
      " NOTICE: PLEASE TAKE CONSIDERABLE CARE WHEN INTERPRETING \n",
      " THESE RESULTS AND PUTTING THEM IN AN ASTRONOMICAL       \n",
      " CONTEXT. THERE ARE MANY SUBTLETIES THAT NEED TO BE TAKEN\n",
      " INTO ACCOUNT, RANGING FROM PAH SIZE, INCLUSION OF       \n",
      " HETEROATOMS, ETC. TO DETAILS OF THE APPLIED EMISSION    \n",
      " MODEL, BEFORE ANY THOROUGH ASSESSMENT CAN BE MADE.      \n",
      "=========================================================\n",
      "\n"
     ]
    },
    {
     "name": "stderr",
     "output_type": "stream",
     "text": [
      "samples: 100%|\u001b[34m██████████\u001b[0m| 1000/1000 [00:01<00:00, 637.15samples/s]\n"
     ]
    },
    {
     "name": "stdout",
     "output_type": "stream",
     "text": [
      "=========================================================\n",
      " NOTICE: PLEASE TAKE CONSIDERABLE CARE WHEN INTERPRETING \n",
      " THESE RESULTS AND PUTTING THEM IN AN ASTRONOMICAL       \n",
      " CONTEXT. THERE ARE MANY SUBTLETIES THAT NEED TO BE TAKEN\n",
      " INTO ACCOUNT, RANGING FROM PAH SIZE, INCLUSION OF       \n",
      " HETEROATOMS, ETC. TO DETAILS OF THE APPLIED EMISSION    \n",
      " MODEL, BEFORE ANY THOROUGH ASSESSMENT CAN BE MADE.      \n",
      "=========================================================\n",
      "\n"
     ]
    },
    {
     "name": "stderr",
     "output_type": "stream",
     "text": [
      "samples: 100%|\u001b[34m██████████\u001b[0m| 1000/1000 [00:01<00:00, 535.37samples/s]\n"
     ]
    },
    {
     "name": "stdout",
     "output_type": "stream",
     "text": [
      "\n",
      "=== Monte Carlo Fit Results ===\n",
      "Height: 900 km\n"
     ]
    },
    {
     "data": {
      "image/png": "[encoded data removed]",
      "text/plain": [
       "<Figure size 640x480 with 1 Axes>"
      ]
     },
     "metadata": {},
     "output_type": "display_data"
    },
    {
     "name": "stdout",
     "output_type": "stream",
     "text": [
      "Height: 950 km\n"
     ]
    },
    {
     "data": {
      "image/png": "[encoded data removed]",
      "text/plain": [
       "<Figure size 640x480 with 1 Axes>"
      ]
     },
     "metadata": {},
     "output_type": "display_data"
    },
    {
     "name": "stdout",
     "output_type": "stream",
     "text": [
      "Height: 1000 km\n"
     ]
    },
    {
     "data": {
      "image/png": "[encoded data removed]",
      "text/plain": [
       "<Figure size 640x480 with 1 Axes>"
      ]
     },
     "metadata": {},
     "output_type": "display_data"
    }
   ],
   "source": [
    "# Since the observation grid is identical for all heights, we can reuse the precomputed cascade (spectrum).\n",
    "# We simply create new observation objects for each height and run the MC fit.\n",
    "heights = [900, 950, 1000]\n",
    "mc_fit_results = {}\n",
    "\n",
    "for h in heights:\n",
    "    # For the baseline height, reuse the previously computed observation.\n",
    "    if h == baseline_height:\n",
    "        obs = baseline_obs\n",
    "    else:\n",
    "        # For a new height, create a new observation (with the same grid)\n",
    "        obs = observations(height=h)\n",
    "    # Run the Monte Carlo fit on the precomputed spectrum\n",
    "    mc_fit = spectrum.mcfit(obs, samples=1000, multiprocessing=False)\n",
    "    mc_fit_results[h] = mc_fit\n",
    "\n",
    "# Display the Monte Carlo fit results for each height.\n",
    "print(\"\\n=== Monte Carlo Fit Results ===\")\n",
    "for h, result in mc_fit_results.items():\n",
    "    print(f\"Height: {h} km\")\n",
    "    result.plot(wavelength=True)"
   ]
  },
  {
   "cell_type": "markdown",
   "metadata": {},
   "source": [
    "# Perform the Monte Carlo Fitting"
   ]
  },
  {
   "cell_type": "code",
   "execution_count": 3,
   "metadata": {},
   "outputs": [
    {
     "name": "stdout",
     "output_type": "stream",
     "text": [
      "=========================================================\n",
      " NOTICE: PLEASE TAKE CONSIDERABLE CARE WHEN INTERPRETING \n",
      " THESE RESULTS AND PUTTING THEM IN AN ASTRONOMICAL       \n",
      " CONTEXT. THERE ARE MANY SUBTLETIES THAT NEED TO BE TAKEN\n",
      " INTO ACCOUNT, RANGING FROM PAH SIZE, INCLUSION OF       \n",
      " HETEROATOMS, ETC. TO DETAILS OF THE APPLIED EMISSION    \n",
      " MODEL, BEFORE ANY THOROUGH ASSESSMENT CAN BE MADE.      \n",
      "=========================================================\n",
      "\n"
     ]
    },
    {
     "name": "stderr",
     "output_type": "stream",
     "text": [
      "samples: 100%|\u001b[34m██████████\u001b[0m| 10/10 [00:00<00:00, 536.80samples/s]\n"
     ]
    },
    {
     "name": "stdout",
     "output_type": "stream",
     "text": [
      "=========================================================\n",
      " NOTICE: PLEASE TAKE CONSIDERABLE CARE WHEN INTERPRETING \n",
      " THESE RESULTS AND PUTTING THEM IN AN ASTRONOMICAL       \n",
      " CONTEXT. THERE ARE MANY SUBTLETIES THAT NEED TO BE TAKEN\n",
      " INTO ACCOUNT, RANGING FROM PAH SIZE, INCLUSION OF       \n",
      " HETEROATOMS, ETC. TO DETAILS OF THE APPLIED EMISSION    \n",
      " MODEL, BEFORE ANY THOROUGH ASSESSMENT CAN BE MADE.      \n",
      "=========================================================\n",
      "\n"
     ]
    },
    {
     "name": "stderr",
     "output_type": "stream",
     "text": [
      "samples: 100%|\u001b[34m██████████\u001b[0m| 100/100 [00:00<00:00, 720.71samples/s]\n"
     ]
    },
    {
     "name": "stdout",
     "output_type": "stream",
     "text": [
      "=========================================================\n",
      " NOTICE: PLEASE TAKE CONSIDERABLE CARE WHEN INTERPRETING \n",
      " THESE RESULTS AND PUTTING THEM IN AN ASTRONOMICAL       \n",
      " CONTEXT. THERE ARE MANY SUBTLETIES THAT NEED TO BE TAKEN\n",
      " INTO ACCOUNT, RANGING FROM PAH SIZE, INCLUSION OF       \n",
      " HETEROATOMS, ETC. TO DETAILS OF THE APPLIED EMISSION    \n",
      " MODEL, BEFORE ANY THOROUGH ASSESSMENT CAN BE MADE.      \n",
      "=========================================================\n",
      "\n"
     ]
    },
    {
     "name": "stderr",
     "output_type": "stream",
     "text": [
      "samples: 100%|\u001b[34m██████████\u001b[0m| 1000/1000 [00:01<00:00, 740.46samples/s]\n"
     ]
    },
    {
     "name": "stdout",
     "output_type": "stream",
     "text": [
      "=========================================================\n",
      " NOTICE: PLEASE TAKE CONSIDERABLE CARE WHEN INTERPRETING \n",
      " THESE RESULTS AND PUTTING THEM IN AN ASTRONOMICAL       \n",
      " CONTEXT. THERE ARE MANY SUBTLETIES THAT NEED TO BE TAKEN\n",
      " INTO ACCOUNT, RANGING FROM PAH SIZE, INCLUSION OF       \n",
      " HETEROATOMS, ETC. TO DETAILS OF THE APPLIED EMISSION    \n",
      " MODEL, BEFORE ANY THOROUGH ASSESSMENT CAN BE MADE.      \n",
      "=========================================================\n",
      "\n"
     ]
    },
    {
     "name": "stderr",
     "output_type": "stream",
     "text": [
      "samples: 100%|\u001b[34m██████████\u001b[0m| 10000/10000 [00:15<00:00, 662.68samples/s]\n"
     ]
    },
    {
     "name": "stdout",
     "output_type": "stream",
     "text": [
      "=========================================================\n",
      " NOTICE: PLEASE TAKE CONSIDERABLE CARE WHEN INTERPRETING \n",
      " THESE RESULTS AND PUTTING THEM IN AN ASTRONOMICAL       \n",
      " CONTEXT. THERE ARE MANY SUBTLETIES THAT NEED TO BE TAKEN\n",
      " INTO ACCOUNT, RANGING FROM PAH SIZE, INCLUSION OF       \n",
      " HETEROATOMS, ETC. TO DETAILS OF THE APPLIED EMISSION    \n",
      " MODEL, BEFORE ANY THOROUGH ASSESSMENT CAN BE MADE.      \n",
      "=========================================================\n",
      "\n"
     ]
    },
    {
     "name": "stderr",
     "output_type": "stream",
     "text": [
      "samples: 100%|\u001b[34m██████████\u001b[0m| 10/10 [00:00<00:00, 622.67samples/s]\n"
     ]
    },
    {
     "name": "stdout",
     "output_type": "stream",
     "text": [
      "=========================================================\n",
      " NOTICE: PLEASE TAKE CONSIDERABLE CARE WHEN INTERPRETING \n",
      " THESE RESULTS AND PUTTING THEM IN AN ASTRONOMICAL       \n",
      " CONTEXT. THERE ARE MANY SUBTLETIES THAT NEED TO BE TAKEN\n",
      " INTO ACCOUNT, RANGING FROM PAH SIZE, INCLUSION OF       \n",
      " HETEROATOMS, ETC. TO DETAILS OF THE APPLIED EMISSION    \n",
      " MODEL, BEFORE ANY THOROUGH ASSESSMENT CAN BE MADE.      \n",
      "=========================================================\n",
      "\n"
     ]
    },
    {
     "name": "stderr",
     "output_type": "stream",
     "text": [
      "samples: 100%|\u001b[34m██████████\u001b[0m| 100/100 [00:00<00:00, 680.84samples/s]\n"
     ]
    },
    {
     "name": "stdout",
     "output_type": "stream",
     "text": [
      "=========================================================\n",
      " NOTICE: PLEASE TAKE CONSIDERABLE CARE WHEN INTERPRETING \n",
      " THESE RESULTS AND PUTTING THEM IN AN ASTRONOMICAL       \n",
      " CONTEXT. THERE ARE MANY SUBTLETIES THAT NEED TO BE TAKEN\n",
      " INTO ACCOUNT, RANGING FROM PAH SIZE, INCLUSION OF       \n",
      " HETEROATOMS, ETC. TO DETAILS OF THE APPLIED EMISSION    \n",
      " MODEL, BEFORE ANY THOROUGH ASSESSMENT CAN BE MADE.      \n",
      "=========================================================\n",
      "\n"
     ]
    },
    {
     "name": "stderr",
     "output_type": "stream",
     "text": [
      "samples: 100%|\u001b[34m██████████\u001b[0m| 1000/1000 [00:01<00:00, 671.40samples/s]\n"
     ]
    },
    {
     "name": "stdout",
     "output_type": "stream",
     "text": [
      "=========================================================\n",
      " NOTICE: PLEASE TAKE CONSIDERABLE CARE WHEN INTERPRETING \n",
      " THESE RESULTS AND PUTTING THEM IN AN ASTRONOMICAL       \n",
      " CONTEXT. THERE ARE MANY SUBTLETIES THAT NEED TO BE TAKEN\n",
      " INTO ACCOUNT, RANGING FROM PAH SIZE, INCLUSION OF       \n",
      " HETEROATOMS, ETC. TO DETAILS OF THE APPLIED EMISSION    \n",
      " MODEL, BEFORE ANY THOROUGH ASSESSMENT CAN BE MADE.      \n",
      "=========================================================\n",
      "\n"
     ]
    },
    {
     "name": "stderr",
     "output_type": "stream",
     "text": [
      "samples: 100%|\u001b[34m██████████\u001b[0m| 10000/10000 [00:17<00:00, 584.53samples/s]\n"
     ]
    },
    {
     "name": "stdout",
     "output_type": "stream",
     "text": [
      "=========================================================\n",
      " NOTICE: PLEASE TAKE CONSIDERABLE CARE WHEN INTERPRETING \n",
      " THESE RESULTS AND PUTTING THEM IN AN ASTRONOMICAL       \n",
      " CONTEXT. THERE ARE MANY SUBTLETIES THAT NEED TO BE TAKEN\n",
      " INTO ACCOUNT, RANGING FROM PAH SIZE, INCLUSION OF       \n",
      " HETEROATOMS, ETC. TO DETAILS OF THE APPLIED EMISSION    \n",
      " MODEL, BEFORE ANY THOROUGH ASSESSMENT CAN BE MADE.      \n",
      "=========================================================\n",
      "\n"
     ]
    },
    {
     "name": "stderr",
     "output_type": "stream",
     "text": [
      "samples: 100%|\u001b[34m██████████\u001b[0m| 10/10 [00:00<00:00, 566.55samples/s]\n"
     ]
    },
    {
     "name": "stdout",
     "output_type": "stream",
     "text": [
      "=========================================================\n",
      " NOTICE: PLEASE TAKE CONSIDERABLE CARE WHEN INTERPRETING \n",
      " THESE RESULTS AND PUTTING THEM IN AN ASTRONOMICAL       \n",
      " CONTEXT. THERE ARE MANY SUBTLETIES THAT NEED TO BE TAKEN\n",
      " INTO ACCOUNT, RANGING FROM PAH SIZE, INCLUSION OF       \n",
      " HETEROATOMS, ETC. TO DETAILS OF THE APPLIED EMISSION    \n",
      " MODEL, BEFORE ANY THOROUGH ASSESSMENT CAN BE MADE.      \n",
      "=========================================================\n",
      "\n"
     ]
    },
    {
     "name": "stderr",
     "output_type": "stream",
     "text": [
      "samples: 100%|\u001b[34m██████████\u001b[0m| 100/100 [00:00<00:00, 605.24samples/s]\n"
     ]
    },
    {
     "name": "stdout",
     "output_type": "stream",
     "text": [
      "=========================================================\n",
      " NOTICE: PLEASE TAKE CONSIDERABLE CARE WHEN INTERPRETING \n",
      " THESE RESULTS AND PUTTING THEM IN AN ASTRONOMICAL       \n",
      " CONTEXT. THERE ARE MANY SUBTLETIES THAT NEED TO BE TAKEN\n",
      " INTO ACCOUNT, RANGING FROM PAH SIZE, INCLUSION OF       \n",
      " HETEROATOMS, ETC. TO DETAILS OF THE APPLIED EMISSION    \n",
      " MODEL, BEFORE ANY THOROUGH ASSESSMENT CAN BE MADE.      \n",
      "=========================================================\n",
      "\n"
     ]
    },
    {
     "name": "stderr",
     "output_type": "stream",
     "text": [
      "samples: 100%|\u001b[34m██████████\u001b[0m| 1000/1000 [00:01<00:00, 605.44samples/s]\n"
     ]
    },
    {
     "name": "stdout",
     "output_type": "stream",
     "text": [
      "=========================================================\n",
      " NOTICE: PLEASE TAKE CONSIDERABLE CARE WHEN INTERPRETING \n",
      " THESE RESULTS AND PUTTING THEM IN AN ASTRONOMICAL       \n",
      " CONTEXT. THERE ARE MANY SUBTLETIES THAT NEED TO BE TAKEN\n",
      " INTO ACCOUNT, RANGING FROM PAH SIZE, INCLUSION OF       \n",
      " HETEROATOMS, ETC. TO DETAILS OF THE APPLIED EMISSION    \n",
      " MODEL, BEFORE ANY THOROUGH ASSESSMENT CAN BE MADE.      \n",
      "=========================================================\n",
      "\n"
     ]
    },
    {
     "name": "stderr",
     "output_type": "stream",
     "text": [
      "samples: 100%|\u001b[34m██████████\u001b[0m| 10000/10000 [00:17<00:00, 559.31samples/s]\n"
     ]
    }
   ],
   "source": [
    "# Fit the spectrum using Monte Carlo approach for all tangent heights.\n",
    "mc_fit_results = {}\n",
    "\n",
    "for h in heights:\n",
    "    # For the baseline height, reuse the previously computed observation.\n",
    "    if h == baseline_height:\n",
    "        obs = baseline_obs\n",
    "    else:\n",
    "        # For a new height, create a new observation (with the same grid)\n",
    "        obs = observations(height=h)\n",
    "    \n",
    "    # Run the Monte Carlo fit on the precomputed spectrum\n",
    "    mc_fit_results[h] = {\n",
    "        'mcfit10': spectrum.mcfit(obs, samples=10, multiprocessing=False),\n",
    "        # 'mcfit50': spectrum.mcfit(obs, samples=50, multiprocessing=False),\n",
    "        'mcfit100': spectrum.mcfit(obs, samples=100, multiprocessing=False),\n",
    "        # 'mcfit200': spectrum.mcfit(obs, samples=200, multiprocessing=False),\n",
    "        # 'mcfit500': spectrum.mcfit(obs, samples=500, multiprocessing=False),\n",
    "        'mcfit1000': spectrum.mcfit(obs, samples=1000, multiprocessing=False),\n",
    "        # 'mcfit2000': spectrum.mcfit(obs, samples=2000, multiprocessing=False),\n",
    "        # 'mcfit5000': spectrum.mcfit(obs, samples=5000, multiprocessing=False),\n",
    "        'mcfit10000': spectrum.mcfit(obs, samples=10000, multiprocessing=False)\n",
    "    }"
   ]
  },
  {
   "cell_type": "code",
   "execution_count": 4,
   "metadata": {},
   "outputs": [],
   "source": [
    "# Iterate through the heights and their corresponding mc_fit results\n",
    "for height, fits in mc_fit_results.items():\n",
    "    for key, mcfit in fits.items():\n",
    "        mc_fit_results[height][key] = mcfit.get()"
   ]
  },
  {
   "cell_type": "code",
   "execution_count": 5,
   "metadata": {},
   "outputs": [],
   "source": [
    "def Calculate_rings(mc_fit_results, max_rings=150):\n",
    "    \"\"\"\n",
    "    Calculates the concentration-weighted mean number of rings, mass, and area\n",
    "    for each height and each MC sample size.\n",
    "\n",
    "    Parameters:\n",
    "    - mc_fit_results: Dictionary containing MC fits at different heights and MC samples.\n",
    "    - max_rings: Maximum allowed ring count before marking as an outlier.\n",
    "\n",
    "    Returns:\n",
    "    - results_dict: Dictionary structured as {height: {mcfit_size: results}}\n",
    "    \"\"\"\n",
    "    results_dict = {}\n",
    "\n",
    "    for h, mc_fits in mc_fit_results.items():  # Loop over heights\n",
    "        results_dict[h] = {}  # Initialize dictionary for this height\n",
    "\n",
    "        for mc_key, mcfit_got in mc_fits.items():  # Loop over MC sample sizes\n",
    "            average_rings_per_run = []\n",
    "            average_masses_per_run = []\n",
    "            average_areas_per_run = []\n",
    "\n",
    "            for fit in mcfit_got['mcfits']:\n",
    "                uids = fit['uids']\n",
    "                weights = fit['weights']\n",
    "\n",
    "                geometry = pahdb.getgeometrybyuid(uids)\n",
    "                rings = geometry.rings()\n",
    "                masses = geometry.mass()\n",
    "                areas = geometry.area()\n",
    "\n",
    "                # Identify PAHs that exceed the ring threshold\n",
    "                outlier_uids = [uid for uid in uids if sum(rings[uid].values()) > max_rings]\n",
    "\n",
    "                if outlier_uids:\n",
    "                    print(f\"Excluding {len(outlier_uids)} PAHs with >{max_rings} rings at height {h}, MC fit {mc_key}: {outlier_uids}\")\n",
    "\n",
    "                    # Only exclude if NOT all PAHs are outliers\n",
    "                    if len(outlier_uids) < len(uids):\n",
    "                        uids = [uid for uid in uids if uid not in outlier_uids]\n",
    "                        weights = {uid: weight for uid, weight in weights.items() if uid not in outlier_uids}\n",
    "                    else:\n",
    "                        print(f\"Keeping all PAHs for height {h}, MC fit {mc_key} to avoid full removal.\")\n",
    "\n",
    "                # Normalize weights\n",
    "                total_weight = sum(weights.values())\n",
    "                normalized_weights = {uid: weight / total_weight for uid, weight in weights.items()} if total_weight > 0 else {}\n",
    "\n",
    "                # Compute weighted properties\n",
    "                weighted_rings = sum(\n",
    "                    (max([count for count in rings[uid].values() if count > 0]) if any(rings[uid].values()) else 0)\n",
    "                    * normalized_weights[uid]\n",
    "                    for uid in uids\n",
    "                ) if normalized_weights else 0\n",
    "\n",
    "                weighted_masses = sum(\n",
    "                    (max(masses[uid].values()) if isinstance(masses[uid], dict) else masses[uid]) * normalized_weights[uid]\n",
    "                    for uid in uids\n",
    "                ) if normalized_weights else 0\n",
    "\n",
    "                weighted_areas = sum(\n",
    "                    areas[uid] * normalized_weights[uid] for uid in uids\n",
    "                ) if normalized_weights else 0\n",
    "\n",
    "                # Store results per run\n",
    "                average_rings_per_run.append(weighted_rings)\n",
    "                average_masses_per_run.append(weighted_masses)\n",
    "                average_areas_per_run.append(weighted_areas)\n",
    "\n",
    "            # Compute the overall mean and statistical metrics for this height & MC fit\n",
    "            overall_average_rings = np.mean(average_rings_per_run)\n",
    "            std_dev = np.std(average_rings_per_run, ddof=1)\n",
    "            sem = std_dev / np.sqrt(len(average_rings_per_run))\n",
    "\n",
    "            results_rings = [overall_average_rings, std_dev, sem]\n",
    "            other_results = [np.mean(average_masses_per_run), np.mean(average_areas_per_run)]\n",
    "\n",
    "            results_dict[h][mc_key] = {'rings': results_rings, 'mass_area': other_results}\n",
    "\n",
    "    return results_dict\n"
   ]
  },
  {
   "cell_type": "code",
   "execution_count": 6,
   "metadata": {},
   "outputs": [
    {
     "ename": "NameError",
     "evalue": "name 'np' is not defined",
     "output_type": "error",
     "traceback": [
      "\u001b[0;31m---------------------------------------------------------------------------\u001b[0m",
      "\u001b[0;31mNameError\u001b[0m                                 Traceback (most recent call last)",
      "Cell \u001b[0;32mIn[6], line 1\u001b[0m\n\u001b[0;32m----> 1\u001b[0m results \u001b[38;5;241m=\u001b[39m \u001b[43mCalculate_rings\u001b[49m\u001b[43m(\u001b[49m\u001b[43mmc_fit_results\u001b[49m\u001b[43m)\u001b[49m\n\u001b[1;32m      3\u001b[0m \u001b[38;5;66;03m# Access results for a specific height and MC run\u001b[39;00m\n\u001b[1;32m      4\u001b[0m height \u001b[38;5;241m=\u001b[39m \u001b[38;5;241m1000\u001b[39m  \u001b[38;5;66;03m# Example height in km\u001b[39;00m\n",
      "Cell \u001b[0;32mIn[5], line 71\u001b[0m, in \u001b[0;36mCalculate_rings\u001b[0;34m(mc_fit_results, max_rings)\u001b[0m\n\u001b[1;32m     68\u001b[0m     average_areas_per_run\u001b[38;5;241m.\u001b[39mappend(weighted_areas)\n\u001b[1;32m     70\u001b[0m \u001b[38;5;66;03m# Compute the overall mean and statistical metrics for this height & MC fit\u001b[39;00m\n\u001b[0;32m---> 71\u001b[0m overall_average_rings \u001b[38;5;241m=\u001b[39m \u001b[43mnp\u001b[49m\u001b[38;5;241m.\u001b[39mmean(average_rings_per_run)\n\u001b[1;32m     72\u001b[0m std_dev \u001b[38;5;241m=\u001b[39m np\u001b[38;5;241m.\u001b[39mstd(average_rings_per_run, ddof\u001b[38;5;241m=\u001b[39m\u001b[38;5;241m1\u001b[39m)\n\u001b[1;32m     73\u001b[0m sem \u001b[38;5;241m=\u001b[39m std_dev \u001b[38;5;241m/\u001b[39m np\u001b[38;5;241m.\u001b[39msqrt(\u001b[38;5;28mlen\u001b[39m(average_rings_per_run))\n",
      "\u001b[0;31mNameError\u001b[0m: name 'np' is not defined"
     ]
    }
   ],
   "source": [
    "results = Calculate_rings(mc_fit_results)\n",
    "\n",
    "# Access results for a specific height and MC run\n",
    "height = 1000  # Example height in km\n",
    "mc_key = 'mcfit1000'  # Example MC run\n",
    "print(f\"Results for height {height}, MC fit {mc_key}: {results[height][mc_key]}\")\n"
   ]
  },
  {
   "cell_type": "code",
   "execution_count": null,
   "metadata": {},
   "outputs": [],
   "source": [
    "mcfit1000.plot(wavelength=True)"
   ]
  },
  {
   "cell_type": "code",
   "execution_count": null,
   "metadata": {},
   "outputs": [],
   "source": [
    "mcfit10_got = mcfit10.get()\n",
    "# mcfit50_got = mcfit50.get()\n",
    "# mcfit100_got = mcfit100.get()\n",
    "# mcfit200_got = mcfit200.get()\n",
    "# mcfit500_got = mcfit500.get()\n",
    "mcfit1000_got = mcfit1000.get()\n",
    "# mcfit_got['distribution']"
   ]
  },
  {
   "cell_type": "code",
   "execution_count": null,
   "metadata": {},
   "outputs": [],
   "source": [
    "mcfit1000_got"
   ]
  },
  {
   "cell_type": "code",
   "execution_count": null,
   "metadata": {},
   "outputs": [],
   "source": [
    "uids = mcfit10_got['mcfits'][0]['uids']\n",
    "weights = mcfit10_got['mcfits'][0]['weights']\n",
    "total_weight = sum(weights.values())"
   ]
  },
  {
   "cell_type": "code",
   "execution_count": null,
   "metadata": {},
   "outputs": [],
   "source": [
    "weights"
   ]
  },
  {
   "cell_type": "code",
   "execution_count": null,
   "metadata": {},
   "outputs": [],
   "source": [
    "normalized_weights = {uid: weight / total_weight for uid, weight in weights.items()}\n",
    "normalized_weights"
   ]
  },
  {
   "cell_type": "code",
   "execution_count": null,
   "metadata": {},
   "outputs": [],
   "source": [
    "geometry = pahdb.getgeometrybyuid(uids)\n",
    "rings = geometry.rings()\n",
    "masses = geometry.mass()\n",
    "areas = geometry.area()\n",
    "\n",
    "np.mean(sum(rings[527].values()))\n",
    "# list(rings[527].values())\n",
    "# weighted_rings = sum(\n",
    "    # np.mean(list(rings[uid].values())) * normalized_weights[uid] for uid in uids)\n",
    "\n"
   ]
  },
  {
   "cell_type": "code",
   "execution_count": null,
   "metadata": {},
   "outputs": [],
   "source": [
    "rings"
   ]
  },
  {
   "cell_type": "code",
   "execution_count": null,
   "metadata": {},
   "outputs": [],
   "source": [
    "masses"
   ]
  },
  {
   "cell_type": "code",
   "execution_count": null,
   "metadata": {},
   "outputs": [],
   "source": [
    "import numpy as np\n",
    "\n",
    "def Calculate_rings(mcfit_got):\n",
    "    average_rings_per_run = []\n",
    "    average_masses_per_run = []\n",
    "    average_areas_per_run = []\n",
    "\n",
    "    for i in range(len(mcfit_got['mcfits'])):\n",
    "        uids = mcfit_got['mcfits'][i]['uids']  # Extract UIDs for this run\n",
    "        weights = mcfit_got['mcfits'][i]['weights']  # Extract weights\n",
    "\n",
    "        geometry = pahdb.getgeometrybyuid(uids)\n",
    "        rings = geometry.rings()\n",
    "        masses = geometry.mass()\n",
    "        areas = geometry.area()\n",
    "\n",
    "        # Normalize the weights (sum to 1 for each MC run)\n",
    "        total_weight = sum(weights.values())\n",
    "        normalized_weights = {uid: weight / total_weight for uid, weight in weights.items()}\n",
    "\n",
    "        # **Corrected: Filter out zero rings before taking the mean**\n",
    "        weighted_rings = sum(\n",
    "            (np.mean([count for count in rings[uid].values() if count > 0]) if any(rings[uid].values()) else 0)\n",
    "            * normalized_weights[uid]\n",
    "            for uid in uids\n",
    "        )\n",
    "        weighted_masses = sum(\n",
    "            masses[uid] * normalized_weights[uid] for uid in uids\n",
    "        )\n",
    "        weighted_areas = sum(\n",
    "            areas[uid] * normalized_weights[uid] for uid in uids\n",
    "        )\n",
    "\n",
    "        # Store results per run\n",
    "        average_rings_per_run.append(weighted_rings)\n",
    "        average_masses_per_run.append(weighted_masses)\n",
    "        average_areas_per_run.append(weighted_areas)\n",
    "\n",
    "    # Compute the overall mean and statistical metrics\n",
    "    overall_average_rings = np.mean(average_rings_per_run)\n",
    "    std_dev = np.std(average_rings_per_run, ddof=1)  # Sample standard deviation\n",
    "    sem = std_dev / np.sqrt(len(average_rings_per_run))  # Standard error\n",
    "\n",
    "    results_rings = [overall_average_rings, std_dev, sem]\n",
    "    other_results = [np.mean(average_masses_per_run), np.mean(average_areas_per_run)]\n",
    "\n",
    "    return results_rings, other_results\n"
   ]
  },
  {
   "cell_type": "code",
   "execution_count": null,
   "metadata": {},
   "outputs": [],
   "source": [
    "results_rings, other_results = Calculate_rings(mcfit1000_got)\n",
    "print(\"Weighted Mean Rings:\", round(results_rings[0], 2))\n",
    "print(\"Std Dev:\", round(results_rings[1], 2))\n",
    "print(\"SEM:\", round(results_rings[2], 2))\n",
    "print(\"Weighted Mean Mass:\", round(other_results[0], 2))\n",
    "print(\"Weighted Mean Area:\", round(other_results[1], 2))\n"
   ]
  },
  {
   "cell_type": "markdown",
   "metadata": {},
   "source": [
    "## Checking the statistics"
   ]
  },
  {
   "cell_type": "code",
   "execution_count": null,
   "metadata": {},
   "outputs": [],
   "source": [
    "# Get the number of rings for each UID\n",
    "rings_data = pahdb.getgeometrybyuid(uids).rings()\n",
    "\n",
    "# Create a list of dictionaries with UID, number of rings, and relative weight in percentages\n",
    "data = []\n",
    "for uid in uids:\n",
    "    num_rings = sum(rings_data[uid].values())\n",
    "    relative_weight_percentage = round((weights[uid] / total_weight) * 100, 2)\n",
    "    data.append({'UID': uid, 'Number of Rings': num_rings, 'Relative Weight (%)': relative_weight_percentage})\n",
    "\n",
    "# Create a pandas DataFrame\n",
    "df = pd.DataFrame(data)\n",
    "\n",
    "# Order the DataFrame by relative weight\n",
    "df = df.sort_values(by='Relative Weight (%)')\n",
    "\n",
    "# Display the DataFrame\n",
    "df"
   ]
  },
  {
   "cell_type": "code",
   "execution_count": null,
   "metadata": {},
   "outputs": [],
   "source": [
    "# Extract individual PAH data from Monte Carlo results\n",
    "rings_list = []\n",
    "masses_list = []\n",
    "\n",
    "for fit in mcfit1000_got['mcfits']:\n",
    "    uids = fit['uids']\n",
    "    geometry = pahdb.getgeometrybyuid(uids)\n",
    "    rings = geometry.rings()\n",
    "    masses = geometry.mass()\n",
    "\n",
    "    for uid in uids:\n",
    "        # Extract the number of rings, filtering out zeros\n",
    "        num_rings = sum(rings[uid].values()) if any(rings[uid].values()) else 0\n",
    "        mass = masses[uid]\n",
    "\n",
    "        rings_list.append(num_rings)\n",
    "        masses_list.append(mass)\n",
    "\n",
    "# Plot rings vs. mass\n",
    "plt.figure(figsize=(8, 6))\n",
    "plt.scatter(rings_list, masses_list, alpha=0.3, label=\"PAH Data\", color='blue')\n",
    "\n",
    "# Expected mass trend line based on the empirical scaling relation C ≈ 4 + 2.5R\n",
    "rings_range = range(min(rings_list), max(rings_list) + 1)\n",
    "expected_masses = [((4 + 2.5 * R) * 12.01 + (0.1 * (4 + 2.5 * R)) * 1.008) for R in rings_range]\n",
    "plt.plot(rings_range, expected_masses, linestyle=\"dashed\", color=\"red\", label=\"Expected Mass Trend\")\n",
    "\n",
    "# Calculate and plot the mean mass for the Monte Carlo results\n",
    "plt.scatter(results_rings[0], other_results[0], color='green', s=200, zorder=5, label=\"Mean weighted Mass\", alpha=0.8)\n",
    "\n",
    "plt.xlabel(\"Number of Rings\")\n",
    "plt.ylabel(\"Molecular Mass (u)\")\n",
    "plt.title(\"PAH Molecular Mass vs. Number of Rings\")\n",
    "plt.legend()\n",
    "plt.grid(True)\n",
    "\n",
    "plt.show()"
   ]
  },
  {
   "cell_type": "code",
   "execution_count": null,
   "metadata": {},
   "outputs": [],
   "source": [
    "# Extract individual PAH data from Monte Carlo results\n",
    "rings_list = []\n",
    "areas_list = []\n",
    "\n",
    "for fit in mcfit1000_got['mcfits']:\n",
    "    uids = fit['uids']\n",
    "    geometry = pahdb.getgeometrybyuid(uids)\n",
    "    rings = geometry.rings()\n",
    "    areas = geometry.area()\n",
    "\n",
    "    for uid in uids:\n",
    "        # Extract the number of rings, filtering out zeros\n",
    "        num_rings = sum(rings[uid].values()) if any(rings[uid].values()) else 0\n",
    "        area = areas[uid]\n",
    "\n",
    "        rings_list.append(num_rings)\n",
    "        areas_list.append(area)\n",
    "\n",
    "# Plot rings vs. area\n",
    "plt.figure(figsize=(8, 6))\n",
    "plt.scatter(rings_list, areas_list, alpha=0.6, label=\"PAH Data\", color='blue')\n",
    "\n",
    "plt.xlabel(\"Number of Rings\")\n",
    "plt.ylabel(\"Area (Å²)\")\n",
    "plt.title(\"PAH Area vs. Number of Rings\")\n",
    "plt.legend()\n",
    "plt.grid(True)\n",
    "\n",
    "plt.show()"
   ]
  },
  {
   "cell_type": "code",
   "execution_count": null,
   "metadata": {},
   "outputs": [],
   "source": [
    "# Find the UID with the highest number of rings across all fits\n",
    "max_rings = 0\n",
    "outlier_uid = None\n",
    "\n",
    "for fit in mcfit1000_got['mcfits']:\n",
    "    uids = fit['uids']\n",
    "    geometry = pahdb.getgeometrybyuid(uids)\n",
    "    rings = geometry.rings()\n",
    "    \n",
    "    for uid in rings:\n",
    "        num_rings = sum(rings[uid].values())\n",
    "        if num_rings > max_rings:\n",
    "            max_rings = num_rings\n",
    "            outlier_uid = uid\n",
    "\n",
    "print(f\"The UID with the highest number of rings ({max_rings} rings) is: {outlier_uid}\")"
   ]
  },
  {
   "cell_type": "markdown",
   "metadata": {},
   "source": [
    "## Temporarily take out the outlier from the statistics"
   ]
  },
  {
   "cell_type": "code",
   "execution_count": null,
   "metadata": {},
   "outputs": [],
   "source": [
    "import numpy as np\n",
    "\n",
    "def Calculate_rings_limit(mcfit_got, max_rings=70):\n",
    "    \"\"\"\n",
    "    Calculates the concentration-weighted mean number of rings, mass, and area\n",
    "    while automatically excluding extreme outliers based on ring count.\n",
    "\n",
    "    Parameters:\n",
    "    - mcfit_got: Monte Carlo fitting results\n",
    "    - max_rings: Maximum number of rings before considering a PAH an outlier\n",
    "\n",
    "    Returns:\n",
    "    - results_rings: [mean rings, std deviation, SEM]\n",
    "    - other_results: [mean mass, mean area]\n",
    "    \"\"\"\n",
    "    average_rings_per_run = []\n",
    "    average_masses_per_run = []\n",
    "    average_areas_per_run = []\n",
    "\n",
    "    for i, fit in enumerate(mcfit_got['mcfits']):\n",
    "        uids = fit['uids']\n",
    "        weights = fit['weights']\n",
    "\n",
    "        geometry = pahdb.getgeometrybyuid(uids)\n",
    "        rings = geometry.rings()\n",
    "        masses = geometry.mass()\n",
    "        areas = geometry.area()\n",
    "\n",
    "        # Identify PAHs that exceed the ring threshold\n",
    "        outlier_uids = [\n",
    "            uid for uid in uids if sum(rings[uid].values()) > max_rings\n",
    "        ]\n",
    "\n",
    "        if outlier_uids:\n",
    "            print(f\"Excluding {len(outlier_uids)} PAHs with >{max_rings} rings from run {i}: {outlier_uids}\")\n",
    "\n",
    "            # **Only exclude if NOT all PAHs are outliers**\n",
    "            if len(outlier_uids) < len(uids):\n",
    "                uids = [uid for uid in uids if uid not in outlier_uids]\n",
    "                weights = {uid: weight for uid, weight in weights.items() if uid not in outlier_uids}\n",
    "            else:\n",
    "                print(f\"Keeping run {i} as all PAHs were flagged, avoiding full removal.\")\n",
    "\n",
    "        # Normalize weights (after removing outliers)\n",
    "        total_weight = sum(weights.values())\n",
    "        normalized_weights = {uid: weight / total_weight for uid, weight in weights.items()} if total_weight > 0 else {}\n",
    "\n",
    "        # Compute weighted properties\n",
    "        weighted_rings = sum(\n",
    "            (max([count for count in rings[uid].values() if count > 0]) if any(rings[uid].values()) else 0)\n",
    "            * normalized_weights[uid]\n",
    "            for uid in uids\n",
    "        ) if normalized_weights else 0\n",
    "\n",
    "        weighted_masses = sum(\n",
    "            (max(masses[uid].values()) if isinstance(masses[uid], dict) else masses[uid]) * normalized_weights[uid]\n",
    "            for uid in uids\n",
    "        ) if normalized_weights else 0\n",
    "\n",
    "        weighted_areas = sum(\n",
    "            areas[uid] * normalized_weights[uid] for uid in uids\n",
    "        ) if normalized_weights else 0\n",
    "\n",
    "        # Store results per run\n",
    "        average_rings_per_run.append(weighted_rings)\n",
    "        average_masses_per_run.append(weighted_masses)\n",
    "        average_areas_per_run.append(weighted_areas)\n",
    "\n",
    "    # Compute the overall mean and statistical metrics\n",
    "    overall_average_rings = np.mean(average_rings_per_run)\n",
    "    std_dev = np.std(average_rings_per_run, ddof=1)\n",
    "    sem = std_dev / np.sqrt(len(average_rings_per_run))\n",
    "\n",
    "    results_rings = [overall_average_rings, std_dev, sem]\n",
    "    other_results = [np.mean(average_masses_per_run), np.mean(average_areas_per_run)]\n",
    "\n",
    "    return results_rings, other_results\n"
   ]
  },
  {
   "cell_type": "code",
   "execution_count": null,
   "metadata": {},
   "outputs": [],
   "source": [
    "results_rings, other_results = Calculate_rings_limit(mcfit1000_got)\n",
    "print(\"Weighted Mean Rings:\", round(results_rings[0], 2))\n",
    "print(\"Std Dev:\", round(results_rings[1], 2))\n",
    "print(\"SEM:\", round(results_rings[2], 2))\n",
    "print(\"Weighted Mean Mass:\", round(other_results[0], 2))\n",
    "print(\"Weighted Mean Area:\", round(other_results[1], 2))"
   ]
  },
  {
   "cell_type": "code",
   "execution_count": null,
   "metadata": {},
   "outputs": [],
   "source": [
    "# Initialize a list to store the results\n",
    "results = []\n",
    "\n",
    "# Iterate over each fit in mcfit1000_got\n",
    "for fit in mcfit1000_got['mcfits']:\n",
    "    uids = fit['uids']\n",
    "    weights = fit['weights']\n",
    "    \n",
    "    # Check if UID 617 is in the current fit\n",
    "    if 611 in uids:\n",
    "        # Calculate the relative contribution\n",
    "        total_weight = sum(weights.values())\n",
    "        relative_contribution = weights[611] / total_weight * 100\n",
    "        results.append({'Fit Index': mcfit1000_got['mcfits'].index(fit), 'Relative Contribution (%)': relative_contribution})\n",
    "\n",
    "# Create a pandas DataFrame\n",
    "df_uid_617 = pd.DataFrame(results)\n",
    "\n",
    "# Display the DataFrame\n",
    "df_uid_617\n"
   ]
  },
  {
   "cell_type": "code",
   "execution_count": null,
   "metadata": {},
   "outputs": [],
   "source": [
    "import numpy as np\n",
    "\n",
    "def Calculate_rings(mcfit_got):\n",
    "    average_rings_per_run = []\n",
    "    average_masses_per_run = []\n",
    "    average_areas_per_run = []\n",
    "\n",
    "    for i in range(len(mcfit_got['mcfits'])):\n",
    "        uids = mcfit_got['mcfits'][i]['uids']  # Extract PAH UIDs for this run\n",
    "        weights = mcfit_got['mcfits'][i]['weights']  # Extract PAH weights for this run\n",
    "\n",
    "        geometry = pahdb.getgeometrybyuid(uids)\n",
    "        rings = geometry.rings()\n",
    "        masses = geometry.mass()\n",
    "        areas = geometry.area()\n",
    "\n",
    "        # Normalize the weights (sum to 1 for each Monte Carlo run)\n",
    "        total_weight = sum(weights.values())\n",
    "        normalized_weights = {uid: weight / total_weight for uid, weight in weights.items()}\n",
    "\n",
    "        # Compute the concentration-weighted mean of rings\n",
    "        weighted_rings = sum(sum(rings[uid].values()) * normalized_weights[uid] for uid in uids)\n",
    "        weighted_masses = sum(masses[uid] * normalized_weights[uid] for uid in uids)\n",
    "        weighted_areas = sum(areas[uid] * normalized_weights[uid] for uid in uids)\n",
    "\n",
    "        # Store results per Monte Carlo run\n",
    "        average_rings_per_run.append(weighted_rings)\n",
    "        average_masses_per_run.append(weighted_masses)\n",
    "        average_areas_per_run.append(weighted_areas)\n",
    "\n",
    "    # Compute the overall mean and statistical metrics\n",
    "    overall_average_rings = np.mean(average_rings_per_run)\n",
    "    std_dev = np.std(average_rings_per_run, ddof=1)  # Sample standard deviation\n",
    "    sem = std_dev / np.sqrt(len(average_rings_per_run))  # Standard error of the mean\n",
    "\n",
    "    results_rings = [overall_average_rings, std_dev, sem]\n",
    "    other_results = [np.mean(average_masses_per_run), np.mean(average_areas_per_run)]\n",
    "\n",
    "    return results_rings, other_results\n"
   ]
  },
  {
   "cell_type": "code",
   "execution_count": null,
   "metadata": {},
   "outputs": [],
   "source": [
    "# results10, other10 = Calculate_rings(mcfit10_got)\n",
    "# results50, other50 = Calculate_rings(mcfit50_got)\n",
    "# results100, other100 = Calculate_rings(mcfit100_got)\n",
    "# results200, other200 = Calculate_rings(mcfit200_got)\n",
    "# results500, other500 = Calculate_rings(mcfit500_got)\n",
    "results1000, other1000 = Calculate_rings(mcfit1000_got)"
   ]
  },
  {
   "cell_type": "code",
   "execution_count": null,
   "metadata": {},
   "outputs": [],
   "source": [
    "print(\"Weighted Mean Rings:\", results1000[0])\n",
    "print(\"Std Dev:\", results1000[1])\n",
    "print(\"SEM:\", results1000[2])\n",
    "print(\"Weighted Mean Mass:\", other1000[0])\n",
    "print(\"Weighted Mean Area:\", other1000[1])"
   ]
  },
  {
   "cell_type": "code",
   "execution_count": null,
   "metadata": {},
   "outputs": [],
   "source": [
    "# results2000, other2000 = Calculate_rings(mcfit2000_got)\n",
    "# results5000, other5000 = Calculate_rings(mcfit5000_got)\n",
    "# results10000, other10000 = Calculate_rings(mcfit10000_got)"
   ]
  },
  {
   "cell_type": "code",
   "execution_count": null,
   "metadata": {},
   "outputs": [],
   "source": [
    "obs"
   ]
  },
  {
   "cell_type": "code",
   "execution_count": null,
   "metadata": {},
   "outputs": [],
   "source": [
    "# Make a bar chart comparing the results\n",
    "fig, ax = plt.subplots(figsize=(12, 6))  # Increase the width of the figure\n",
    "bars = ax.bar(['10', '50', '100', '200', '500', '1000', '2000', '5000', '10000'], \n",
    "              [results10[0], results50[0], results100[0], results200[0], results500[0], results1000[0], results2000[0], results5000[0], results10000[0]],\n",
    "              yerr=[results10[2], results50[2], results100[2], results200[2], results500[2], results1000[2], results2000[2], results5000[2], results10000[2]],\n",
    "              capsize=5, color='fuchsia', alpha=0.8, width=0.6)  # Increase the width of the bars\n",
    "\n",
    "# Add labels and title\n",
    "ax.set_ylabel('Average number of rings', color='purple')  # Label the y axis with purple color\n",
    "ax.set_xlabel('Number of samples', color='purple')  # Label the x axis with purple color\n",
    "ax.set_title('Average number of rings for different number of samples', color='purple')  # Title the graph with purple color\n",
    "plt.ylim(10, 26)\n",
    "\n",
    "# Add the number and error margin on top of each bar\n",
    "for bar, err in zip(bars, [results10[2], results50[2], results100[2], results200[2], results500[2], results1000[2], results2000[2], results5000[2], results10000[2]]):\n",
    "    height = bar.get_height()\n",
    "    ax.annotate(f'{height:.2f} ± {err:.2f}', \n",
    "                xy=(bar.get_x() + bar.get_width() / 2, height), \n",
    "                xytext=(0, 3),  # 3 points vertical offset\n",
    "                textcoords=\"offset points\", \n",
    "                ha='center', va='bottom', color='black')\n",
    "\n",
    "plt.show()  # Display the graph\n"
   ]
  },
  {
   "cell_type": "code",
   "execution_count": null,
   "metadata": {},
   "outputs": [],
   "source": [
    "fig, ax = plt.subplots()\n",
    "bars = ax.bar(['10', '50', '100', '200', '500', '1000', '2000', '5000', '10000'], \n",
    "              [results10[0], results50[0], results100[0], results200[0], results500[0], results1000[0], results2000[0], results5000[0], results10000[0]],\n",
    "              yerr=[results10[1], results50[1], results100[1], results200[1], results500[1], results1000[1], results2000[1], results5000[1], results10000[1]],\n",
    "              capsize=5, color='blue', alpha = 0.8) # plot the data with fuchsia color\n",
    "\n",
    "# Add labels and title\n",
    "ax.set_ylabel('Average number of rings', color='purple') # label the y axis with purple color\n",
    "ax.set_xlabel('Number of samples', color='purple') # label the x axis with purple color\n",
    "ax.set_title('Average number of rings for different number of samples', color='purple') # title the graph with purple color\n",
    "plt.ylim(10, 26)\n",
    "\n",
    "plt.show()"
   ]
  },
  {
   "cell_type": "markdown",
   "metadata": {},
   "source": [
    "## Carbons and Nitrogens"
   ]
  },
  {
   "cell_type": "code",
   "execution_count": null,
   "metadata": {},
   "outputs": [],
   "source": [
    "# give the uids from the fits in a list\n",
    "uids = mcfit1000_got['mcfits'][1].uids\n",
    "geometry = pahdb.getgeometrybyuid(uids)\n",
    "masses = geometry.mass()\n",
    "rings = geometry.rings()\n",
    "# areas = geometry.area()"
   ]
  },
  {
   "cell_type": "code",
   "execution_count": null,
   "metadata": {},
   "outputs": [],
   "source": [
    "uids_forC = []\n",
    "unique_uids = set()\n",
    "\n",
    "for i in range(len(mcfit1000_got['mcfits'])):\n",
    "    for uid in mcfit1000_got['mcfits'][i]['uids']:\n",
    "        if uid not in unique_uids:\n",
    "            unique_uids.add(uid)\n",
    "            uids_forC.append(uid)"
   ]
  },
  {
   "cell_type": "code",
   "execution_count": null,
   "metadata": {},
   "outputs": [],
   "source": [
    "all_my_formulas = [pahdb.getspeciesbyuid([uid]).get()[\"data\"][uid][\"formula\"] for uid in uids_forC]\n",
    "# Extract carbon counts using regular expressions\n",
    "carbon_counts = []\n",
    "for formula in all_my_formulas:\n",
    "    match = re.match(r'C(\\d+)', formula)  # Match 'C' followed by numbers\n",
    "    if match:\n",
    "        carbon_counts.append(int(match.group(1)))  # Extract the number after 'C'\n",
    "\n",
    "# Calculate the minimum, maximum, and average number of carbons\n",
    "min_carbons = min(carbon_counts)\n",
    "max_carbons = max(carbon_counts)\n",
    "# # Calculate the concentration-weighted average number of carbons\n",
    "# total_weight = sum(relative_abundance_per_pah.get(uid, 0) for uid in mean_std_per_pah.keys())\n",
    "# weighted_sum_carbons = sum(carbon_count * relative_abundance_per_pah.get(uid, 0) for carbon_count, uid in zip(carbon_counts, mean_std_per_pah.keys()))\n",
    "# average_carbons = weighted_sum_carbons / total_weight\n",
    "\n",
    "# Output the results\n",
    "print(f\"Minimum carbons: {min_carbons}\")\n",
    "print(f\"Maximum carbons: {max_carbons}\")\n",
    "# print(f\"Average weighted carbons: {average_carbons:.2f}\")"
   ]
  },
  {
   "cell_type": "code",
   "execution_count": null,
   "metadata": {},
   "outputs": [],
   "source": [
    "# Find nitrogen-containing formulas\n",
    "nitrogen_containing = [formula for formula in all_my_formulas if 'N' in formula]\n",
    "\n",
    "# Count the number of nitrogen-containing molecules\n",
    "num_nitrogen_pahs = len(nitrogen_containing)\n",
    "concentration = num_nitrogen_pahs / len(all_my_formulas) * 100\n",
    "\n",
    "# Output the results\n",
    "print(f\"Number of nitrogen-containing PAHs: {num_nitrogen_pahs} out of {len(all_my_formulas)}, {concentration:.2f}% of all PAHs\")\n",
    "print(f\"Nitrogen-containing PAHs: {nitrogen_containing}\")"
   ]
  },
  {
   "cell_type": "code",
   "execution_count": null,
   "metadata": {},
   "outputs": [],
   "source": [
    "# Initialize total nitrogen contribution\n",
    "total_weighted_nitrogen = 0\n",
    "total_weight = 0\n",
    "\n",
    "# Loop through each Monte Carlo fit\n",
    "for fit in mcfit1000_got['mcfits']:\n",
    "    uids = fit['uids']\n",
    "    weights = fit['weights']  # These are the concentration weights\n",
    "\n",
    "    # Get molecular formulas\n",
    "    species_data = pahdb.getspeciesbyuid(uids).get()[\"data\"]\n",
    "\n",
    "    for uid in uids:\n",
    "        formula = species_data[uid][\"formula\"]\n",
    "        weight = weights[uid]\n",
    "\n",
    "        # Check if nitrogen is present in the molecular formula\n",
    "        if 'N' in formula:\n",
    "            total_weighted_nitrogen += weight  # Accumulate nitrogen contribution\n",
    "        \n",
    "        total_weight += weight  # Accumulate total weight\n",
    "\n",
    "# Compute weighted nitrogen fraction\n",
    "weighted_nitrogen_percentage = (total_weighted_nitrogen / total_weight) * 100 if total_weight > 0 else 0\n",
    "\n",
    "# Output results\n",
    "print(f\"Weighted percentage of nitrogen-containing PAHs: {weighted_nitrogen_percentage:.2f}%\")\n"
   ]
  },
  {
   "cell_type": "code",
   "execution_count": null,
   "metadata": {},
   "outputs": [],
   "source": [
    "all_my_formulas"
   ]
  },
  {
   "cell_type": "code",
   "execution_count": null,
   "metadata": {},
   "outputs": [],
   "source": [
    "for i in range(0, len(mcfit1000_got['mcfits'])):\n",
    "    mcfit1000_got['mcfits'][i]['uids']\n",
    "\n",
    "# Collect all UIDs from the 'mcfit1000_got' dictionary\n",
    "all_uids = [uid for fit in mcfit1000_got['mcfits'] for uid in fit['uids']]\n",
    "\n",
    "# Plot the histogram\n",
    "plt.figure(figsize=(10, 6))\n",
    "plt.hist(all_uids, bins=range(min(all_uids), max(all_uids) + 1), color='blue', edgecolor='black')\n",
    "plt.xlabel('UID')\n",
    "plt.ylabel('Frequency')\n",
    "plt.title('Histogram of UIDs from Monte Carlo Fits')\n",
    "plt.show()"
   ]
  },
  {
   "cell_type": "code",
   "execution_count": null,
   "metadata": {},
   "outputs": [],
   "source": [
    "from collections import Counter\n",
    "\n",
    "#Give back the UIDs that appear more than 500 times in mcfit1000_got\n",
    "# Flatten the list of UIDs from all Monte Carlo fits\n",
    "all_uids = [uid for fit in mcfit1000_got['mcfits'] for uid in fit['uids']]\n",
    "\n",
    "# Count the frequency of each UID\n",
    "uid_counts = Counter(all_uids)\n",
    "\n",
    "# Find UIDs that appear more than 500 times\n",
    "uids_more_than_500 = [uid for uid, count in uid_counts.items() if count > 800]\n",
    "\n",
    "uids_more_than_500\n",
    "\n"
   ]
  }
 ],
 "metadata": {
  "kernelspec": {
   "display_name": "titan",
   "language": "python",
   "name": "python3"
  },
  "language_info": {
   "codemirror_mode": {
    "name": "ipython",
    "version": 3
   },
   "file_extension": ".py",
   "mimetype": "text/x-python",
   "name": "python",
   "nbconvert_exporter": "python",
   "pygments_lexer": "ipython3",
   "version": "3.12.5"
  }
 },
 "nbformat": 4,
 "nbformat_minor": 2
}
