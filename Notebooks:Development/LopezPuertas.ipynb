{
 "cells": [
  {
   "cell_type": "markdown",
   "metadata": {},
   "source": [
    "# Lopéz-Puertas et al. 2013"
   ]
  },
  {
   "cell_type": "markdown",
   "metadata": {},
   "source": [
    "This notebook focusses on replicating the work of Lopéz-Puertas at al. (2013), where the researchers looked for PAHs making up the 3.3 μm emission recorded in VIMS data of Titan's upper atmosphere. This research used V1.20 of the NASA Ames PAH database for infrared spectroscopy and confirmed the presence of several PAHs"
   ]
  },
  {
   "cell_type": "code",
   "execution_count": 1,
   "metadata": {},
   "outputs": [],
   "source": [
    "#import packages\n",
    "import numpy as np\n",
    "from amespahdbpythonsuite import observation\n",
    "from amespahdbpythonsuite.amespahdb import AmesPAHdb\n",
    "import matplotlib.pyplot as plt\n",
    "from specutils import Spectrum1D\n"
   ]
  },
  {
   "cell_type": "code",
   "execution_count": 3,
   "metadata": {},
   "outputs": [],
   "source": [
    "#read in the data file in ipac table format with the wavelength in microns and the flux in Jy\n",
    "# data_file = \"/Users/floorstikkelbroeck/Documents/Titan/titan_spec_900.ipac\"\n",
    "# data_file = \"/Users/floorstikkelbroeck/Documents/Titan/titan_spec_950.ipac\"\n",
    "data_file = \"/Users/floorstikkelbroeck/Documents/Titan/titan_spec_1000.ipac\"\n",
    "obs = observation.Observation(data_file)\n",
    "obs.abscissaunitsto(\"1/cm\") #convert the wavelength to wavenumbers"
   ]
  },
  {
   "cell_type": "code",
   "execution_count": 4,
   "metadata": {},
   "outputs": [
    {
     "name": "stdout",
     "output_type": "stream",
     "text": [
      "=========================================================\n",
      "                 AmesPAHdbPythonSuite\n",
      "                 \n",
      "                          by\n",
      "                          \n",
      "                Dr. Christiaan Boersma\n",
      "                \n",
      "                          and\n",
      "                         \n",
      "             Dr. Alexandros Maragkoudakis\n",
      "             \n",
      "               Dr. Matthew J. Shannanon\n",
      "               \n",
      "                  Dr. Joseph E. Roser\n",
      "                 \n",
      "=========================================================\n",
      "\n",
      "=========================================================\n",
      "          SUITE VERSION: 0.5.0.post62+g09a79ed         \n",
      "=========================================================\n",
      "\n",
      "=========================================================\n",
      "                  CHECKING FOR UPDATE                  \n",
      "=========================================================\n",
      "\n",
      "=========================================================\n",
      "                  NO UPDATE AVAILABLE                  \n",
      "=========================================================\n",
      "\n",
      "=========================================================\n",
      "        WEBSITE: HTTP://WWW.ASTROCHEM.ORG/PAHDB/       \n",
      "=========================================================\n",
      "\n",
      "=========================================================\n",
      "          CONTACT: CHRISTIAAN.BOERSMA@NASA.GOV         \n",
      "=========================================================\n",
      "\n",
      "=========================================================\n",
      "     PARSING DATABASE: THIS MAY TAKE A FEW MINUTES     \n",
      "=========================================================\n",
      "\n",
      "==\n",
      "FILENAME                    : /var/folders/vv/2nq91_0d0lsfm6gcskyz__r40000gn/T/a80b922979ad89624d56b35e6a3a1f28.pkl\n",
      "PARSE TIME                  : 0:00:01.602711\n",
      "VERSION (DATE)              : 1.20 (2011-01-13)\n",
      "COMMENT                     : \n",
      "\n",
      "This is the NASA Ames PAH IR Spectroscopic Database. The contents of\n",
      "the database are described in Bauschlicher et al. (2010), Boersma et\n",
      "al. (2014) and Mattioda et al. (2020). The database website is located\n",
      "at https://www.astrochemistry.org/pahdb/.\n",
      "\n",
      "You are kindly asked to cite the following papers when using the database:\n",
      "\n",
      "    Boersma, C., Bauschlicher, C.W., Jr., Ricca, A., Mattioda, A. L.,\n",
      "    Cami, J., Peeters, E., Sánchez de Armas, F., Puerta Saborido, G.,\n",
      "    Hudgins, D M., and Allamandola, L.J., \"The NASA Ames PAH IR Spectroscopic\n",
      "    database version 2.00: updated content, website and on/offline tools\",\n",
      "    2014, The Astrophysical Journal Supplement Series, 211, 8\n",
      "\n",
      "    A copy of the paper can be downloaded from NASA&apos;s ADS services:\n",
      "\n",
      "    http://adsabs.harvard.edu/cgi-bin/nph-data_query?bibcode=2014ApJS..211....8B&link_type=ARTICLE&db_key=AST&nocookies=1\n",
      "\n",
      "    Bauschlicher, C.W., Jr., Boersma, C., Ricca, A., Mattioda, A. L.,\n",
      "    Cami, J., Peeters, E., Sánchez de Armas, F., Puerta Saborido, G.,\n",
      "    Hudgins, D M., and Allamandola, L.J., \"The NASA Ames Polycyclic\n",
      "    Aromatic Hydrocarbon Infrared Spectroscopic Database: The Computed\n",
      "    Spectra\", 2010, The Astrophysical Journal Supplement Series, 189, 341\n",
      "\n",
      "    A copy of the paper can be downloaded from NASA&apos;s ADS services:\n",
      "\n",
      "    http://adsabs.harvard.edu/cgi-bin/nph-data_query?bibcode=2010ApJS..189..341B&link_type=ARTICLE&db_key=AST&nocookies=1\n",
      "\n",
      "    Mattioda, A.L., Hudgins, D.M., Boersma, C., Ricca, A., Peeters,\n",
      "    E., Cami, J., Sánches de Armas, F., Puerta Saborido, G.,\n",
      "    Bauschlicher, C W., J., and Allamandola, L.J. \"The Nasa Ames PAH\n",
      "    IR Spectroscopic Database: The Laboratory Spectra\", 2020, The\n",
      "    Astrophysical Journal Supplement Series, 251, 22\n",
      "\n",
      "    A copy of the paper can be downloaded from NASA&apos;s ADS services:\n",
      "\n",
      "    http://adsabs.harvard.edu/cgi-bin/nph-data_query?bibcode=2020ApJS..251...22M &link_type=ARTICLE&db_key=AST&nocookies=1\n",
      "\n",
      "    Also see https://www.astrochemistry.org/pahdb/theoretical/3.20/help/citation.\n",
      "Notes:\n",
      "    Complete theoretical database\n",
      "\n",
      "==\n",
      "\n"
     ]
    }
   ],
   "source": [
    "#load in the PAHdb with version 1.20 to mimic Lopéz-Puertas et al. 2013\n",
    "# xml_file = \"/Users/floorstikkelbroeck/Documents/Titan/PAHdb/pahdb-theoretical.xml\"\n",
    "xml_file = \"/Users/floorstikkelbroeck/Documents/Titan/PAHdb/pahdb-theoretical-v1.20.xml\"\n",
    "pahdb = AmesPAHdb(\n",
    "    filename=xml_file,\n",
    "    check=False,\n",
    "    cache=False,\n",
    ")"
   ]
  },
  {
   "cell_type": "markdown",
   "metadata": {},
   "source": [
    "The database version of 1.20 contains 604 PAHs, including neutrals, cations and anions. We will not include:\n",
    " - Charged particals (not anticipated at that height, and low efficiencies)\n",
    " - species containing Magnesium, iron, silicon, oxygen\n",
    "\n",
    "This will reduce the dataset to 202 PAHs"
   ]
  },
  {
   "cell_type": "code",
   "execution_count": 5,
   "metadata": {},
   "outputs": [],
   "source": [
    "# Retrieve the transitions from the database for the subset of PAHs.\n",
    "uids = pahdb.search(\"neutral mg=0 fe=0 si=0 o=0\")\n",
    "transitions = pahdb.gettransitionsbyuid(uids)"
   ]
  },
  {
   "cell_type": "code",
   "execution_count": 6,
   "metadata": {},
   "outputs": [
    {
     "data": {
      "text/plain": [
       "201"
      ]
     },
     "execution_count": 6,
     "metadata": {},
     "output_type": "execute_result"
    }
   ],
   "source": [
    "#Check the number of PAHs in the database\n",
    "show = transitions.get()\n",
    "show.keys()\n",
    "len(show['uids']) #should be 202 PAHs, I am missing one??"
   ]
  },
  {
   "cell_type": "code",
   "execution_count": 7,
   "metadata": {},
   "outputs": [],
   "source": [
    "# # Load the solar spectrum\n",
    "# solar_spectrum_file = file_path / \"resources/solar_spectrum.fits\"\n",
    "# with fits.open(solar_spectrum_file) as hdulist:\n",
    "#     wavelength = hdulist[1].data[\"WAVELENGTH\"]  # Assuming the wavelength is in nm\n",
    "#     flux = hdulist[1].data[\"FLUX\"]  # Assuming the flux is in units of irradiance\n",
    "\n",
    "#     # Convert wavelength from nm to cm^-1 (wavenumber)\n",
    "#     frequency = 1e7 / wavelength\n",
    "\n",
    "#     # Prepare the solar spectrum dictionary\n",
    "#     solar_spectrum = {\n",
    "#         \"frequency\": np.flip(frequency),\n",
    "#         \"intensity\": np.flip(flux)\n",
    "#     }\n",
    "\n",
    "# # Calculate the emission spectrum convolved with the solar spectrum.\n",
    "# transitions.cascade(\n",
    "#     solar_spectrum,\n",
    "#     star=True,\n",
    "#     stellar_model=True,\n",
    "#     convolved=True,\n",
    "#     multiprocessing=False,\n",
    "#     cache=False,\n",
    "# )"
   ]
  },
  {
   "cell_type": "code",
   "execution_count": 8,
   "metadata": {
    "vscode": {
     "languageId": "javascript"
    }
   },
   "outputs": [
    {
     "name": "stdout",
     "output_type": "stream",
     "text": [
      "[2.0154789248652157e-07, 2.557568176568268e-07, 8.62760361051425e-07, 3.448306972162778e-07, 5.571801683221394e-07]\n",
      "[2.0711762501035122e-07, 2.649133110472845e-07, 8.63708099249916e-07, 3.4562316674003335e-07, 5.600750301820511e-07]\n",
      "945\n"
     ]
    }
   ],
   "source": [
    "from SORCE import collect_irradiance_data\n",
    "irradiance_data = collect_irradiance_data()\n",
    "wavel = np.array(irradiance_data['august']['wavelengths'])\n",
    "irrad = np.array(irradiance_data['august']['irradiances'])"
   ]
  },
  {
   "cell_type": "code",
   "execution_count": 9,
   "metadata": {},
   "outputs": [
    {
     "name": "stdout",
     "output_type": "stream",
     "text": [
      "=========================================================\n",
      "            APPLYING CASCADE EMISSION MODEL            \n",
      "=========================================================\n",
      "\n",
      "=========================================================\n",
      " STELLAR MODEL SELECTED: USING FIRST PARAMETER AS MODEL\n",
      "=========================================================\n",
      "\n",
      "=========================================================\n",
      "          REBINNING STELLAR MODEL: 100 POINTS          \n",
      "=========================================================\n",
      "\n",
      "=========================================================\n",
      "CALCULATED EFFECTIVE TEMPERATURE: 39076.335151714025 Kelvin\n",
      "=========================================================\n",
      "\n",
      "=========================================================\n",
      "         CONVOLVING WITH ENTIRE RADIATION FIELD        \n",
      "=========================================================\n",
      "\n",
      "=========================================================\n",
      "=========================================================\n",
      "           USING MULTIPROCESSING WITH 7 CORES          \n",
      "=========================================================\n",
      "\n"
     ]
    },
    {
     "ename": "KeyboardInterrupt",
     "evalue": "",
     "output_type": "error",
     "traceback": [
      "\u001b[0;31m---------------------------------------------------------------------------\u001b[0m",
      "\u001b[0;31mKeyboardInterrupt\u001b[0m                         Traceback (most recent call last)",
      "Cell \u001b[0;32mIn[9], line 9\u001b[0m\n\u001b[1;32m      3\u001b[0m uv_spectrum \u001b[38;5;241m=\u001b[39m {\n\u001b[1;32m      4\u001b[0m     \u001b[38;5;124m\"\u001b[39m\u001b[38;5;124mfrequency\u001b[39m\u001b[38;5;124m\"\u001b[39m: \u001b[38;5;241m1e8\u001b[39m \u001b[38;5;241m/\u001b[39m np\u001b[38;5;241m.\u001b[39mflip(wavel),  \u001b[38;5;66;03m# Replace with your UV spectrum frequencies\u001b[39;00m\n\u001b[1;32m      5\u001b[0m     \u001b[38;5;124m\"\u001b[39m\u001b[38;5;124mintensity\u001b[39m\u001b[38;5;124m\"\u001b[39m: \u001b[38;5;241m1e3\u001b[39m \u001b[38;5;241m*\u001b[39mnp\u001b[38;5;241m.\u001b[39mflip(irrad \u001b[38;5;241m*\u001b[39m wavel\u001b[38;5;241m*\u001b[39m\u001b[38;5;241m*\u001b[39m\u001b[38;5;241m2\u001b[39m) \u001b[38;5;241m/\u001b[39m (\u001b[38;5;241m4\u001b[39m \u001b[38;5;241m*\u001b[39m np\u001b[38;5;241m.\u001b[39mpi)   \u001b[38;5;66;03m# Replace with your UV spectrum intensities\u001b[39;00m\n\u001b[1;32m      6\u001b[0m }\n\u001b[1;32m      8\u001b[0m \u001b[38;5;66;03m# Cascade with the UV spectrum\u001b[39;00m\n\u001b[0;32m----> 9\u001b[0m \u001b[43mtransitions\u001b[49m\u001b[38;5;241;43m.\u001b[39;49m\u001b[43mcascade\u001b[49m\u001b[43m(\u001b[49m\u001b[43muv_spectrum\u001b[49m\u001b[43m,\u001b[49m\u001b[43m \u001b[49m\u001b[43mstar\u001b[49m\u001b[38;5;241;43m=\u001b[39;49m\u001b[38;5;28;43;01mTrue\u001b[39;49;00m\u001b[43m,\u001b[49m\u001b[43m \u001b[49m\u001b[43mstellar_model\u001b[49m\u001b[38;5;241;43m=\u001b[39;49m\u001b[38;5;28;43;01mTrue\u001b[39;49;00m\u001b[43m,\u001b[49m\u001b[43m \u001b[49m\u001b[43mconvolved\u001b[49m\u001b[38;5;241;43m=\u001b[39;49m\u001b[38;5;28;43;01mTrue\u001b[39;49;00m\u001b[43m,\u001b[49m\u001b[43m \u001b[49m\u001b[43mmultiprocessing\u001b[49m\u001b[38;5;241;43m=\u001b[39;49m\u001b[38;5;28;43;01mTrue\u001b[39;49;00m\u001b[43m)\u001b[49m\n",
      "File \u001b[0;32m~/anaconda3/envs/titan/lib/python3.12/site-packages/amespahdbpythonsuite/transitions.py:619\u001b[0m, in \u001b[0;36mTransitions.cascade\u001b[0;34m(self, e, **keywords)\u001b[0m\n\u001b[1;32m    616\u001b[0m     charges \u001b[38;5;241m=\u001b[39m [\u001b[38;5;28mself\u001b[39m\u001b[38;5;241m.\u001b[39mpahdb[\u001b[38;5;124m\"\u001b[39m\u001b[38;5;124mspecies\u001b[39m\u001b[38;5;124m\"\u001b[39m][uid][\u001b[38;5;124m\"\u001b[39m\u001b[38;5;124mcharge\u001b[39m\u001b[38;5;124m\"\u001b[39m] \u001b[38;5;28;01mfor\u001b[39;00m uid \u001b[38;5;129;01min\u001b[39;00m \u001b[38;5;28mself\u001b[39m\u001b[38;5;241m.\u001b[39muids]\n\u001b[1;32m    617\u001b[0m     ncs \u001b[38;5;241m=\u001b[39m [\u001b[38;5;28mself\u001b[39m\u001b[38;5;241m.\u001b[39mpahdb[\u001b[38;5;124m\"\u001b[39m\u001b[38;5;124mspecies\u001b[39m\u001b[38;5;124m\"\u001b[39m][uid][\u001b[38;5;124m\"\u001b[39m\u001b[38;5;124mn_c\u001b[39m\u001b[38;5;124m\"\u001b[39m] \u001b[38;5;28;01mfor\u001b[39;00m uid \u001b[38;5;129;01min\u001b[39;00m \u001b[38;5;28mself\u001b[39m\u001b[38;5;241m.\u001b[39muids]\n\u001b[1;32m    618\u001b[0m     data, Tmax \u001b[38;5;241m=\u001b[39m \u001b[38;5;28mzip\u001b[39m(\n\u001b[0;32m--> 619\u001b[0m         \u001b[38;5;241m*\u001b[39m\u001b[43mpool\u001b[49m\u001b[38;5;241;43m.\u001b[39;49m\u001b[43mmap\u001b[49m\u001b[43m(\u001b[49m\u001b[43mcascade_em_model\u001b[49m\u001b[43m,\u001b[49m\u001b[43m \u001b[49m\u001b[38;5;28;43mzip\u001b[39;49m\u001b[43m(\u001b[49m\u001b[38;5;28;43mself\u001b[39;49m\u001b[38;5;241;43m.\u001b[39;49m\u001b[43mdata\u001b[49m\u001b[38;5;241;43m.\u001b[39;49m\u001b[43mvalues\u001b[49m\u001b[43m(\u001b[49m\u001b[43m)\u001b[49m\u001b[43m,\u001b[49m\u001b[43m \u001b[49m\u001b[43mncs\u001b[49m\u001b[43m,\u001b[49m\u001b[43m \u001b[49m\u001b[43mcharges\u001b[49m\u001b[43m)\u001b[49m\u001b[43m)\u001b[49m\n\u001b[1;32m    620\u001b[0m     )\n\u001b[1;32m    621\u001b[0m \u001b[38;5;28;01melse\u001b[39;00m:\n\u001b[1;32m    622\u001b[0m     data, Tmax \u001b[38;5;241m=\u001b[39m \u001b[38;5;28mzip\u001b[39m(\u001b[38;5;241m*\u001b[39mpool\u001b[38;5;241m.\u001b[39mmap(cascade_em_model, \u001b[38;5;28mself\u001b[39m\u001b[38;5;241m.\u001b[39mdata\u001b[38;5;241m.\u001b[39mvalues()))\n",
      "File \u001b[0;32m~/anaconda3/envs/titan/lib/python3.12/multiprocessing/pool.py:367\u001b[0m, in \u001b[0;36mPool.map\u001b[0;34m(self, func, iterable, chunksize)\u001b[0m\n\u001b[1;32m    362\u001b[0m \u001b[38;5;28;01mdef\u001b[39;00m \u001b[38;5;21mmap\u001b[39m(\u001b[38;5;28mself\u001b[39m, func, iterable, chunksize\u001b[38;5;241m=\u001b[39m\u001b[38;5;28;01mNone\u001b[39;00m):\n\u001b[1;32m    363\u001b[0m \u001b[38;5;250m    \u001b[39m\u001b[38;5;124;03m'''\u001b[39;00m\n\u001b[1;32m    364\u001b[0m \u001b[38;5;124;03m    Apply `func` to each element in `iterable`, collecting the results\u001b[39;00m\n\u001b[1;32m    365\u001b[0m \u001b[38;5;124;03m    in a list that is returned.\u001b[39;00m\n\u001b[1;32m    366\u001b[0m \u001b[38;5;124;03m    '''\u001b[39;00m\n\u001b[0;32m--> 367\u001b[0m     \u001b[38;5;28;01mreturn\u001b[39;00m \u001b[38;5;28;43mself\u001b[39;49m\u001b[38;5;241;43m.\u001b[39;49m\u001b[43m_map_async\u001b[49m\u001b[43m(\u001b[49m\u001b[43mfunc\u001b[49m\u001b[43m,\u001b[49m\u001b[43m \u001b[49m\u001b[43miterable\u001b[49m\u001b[43m,\u001b[49m\u001b[43m \u001b[49m\u001b[43mmapstar\u001b[49m\u001b[43m,\u001b[49m\u001b[43m \u001b[49m\u001b[43mchunksize\u001b[49m\u001b[43m)\u001b[49m\u001b[38;5;241;43m.\u001b[39;49m\u001b[43mget\u001b[49m\u001b[43m(\u001b[49m\u001b[43m)\u001b[49m\n",
      "File \u001b[0;32m~/anaconda3/envs/titan/lib/python3.12/multiprocessing/pool.py:768\u001b[0m, in \u001b[0;36mApplyResult.get\u001b[0;34m(self, timeout)\u001b[0m\n\u001b[1;32m    767\u001b[0m \u001b[38;5;28;01mdef\u001b[39;00m \u001b[38;5;21mget\u001b[39m(\u001b[38;5;28mself\u001b[39m, timeout\u001b[38;5;241m=\u001b[39m\u001b[38;5;28;01mNone\u001b[39;00m):\n\u001b[0;32m--> 768\u001b[0m     \u001b[38;5;28;43mself\u001b[39;49m\u001b[38;5;241;43m.\u001b[39;49m\u001b[43mwait\u001b[49m\u001b[43m(\u001b[49m\u001b[43mtimeout\u001b[49m\u001b[43m)\u001b[49m\n\u001b[1;32m    769\u001b[0m     \u001b[38;5;28;01mif\u001b[39;00m \u001b[38;5;129;01mnot\u001b[39;00m \u001b[38;5;28mself\u001b[39m\u001b[38;5;241m.\u001b[39mready():\n\u001b[1;32m    770\u001b[0m         \u001b[38;5;28;01mraise\u001b[39;00m \u001b[38;5;167;01mTimeoutError\u001b[39;00m\n",
      "File \u001b[0;32m~/anaconda3/envs/titan/lib/python3.12/multiprocessing/pool.py:765\u001b[0m, in \u001b[0;36mApplyResult.wait\u001b[0;34m(self, timeout)\u001b[0m\n\u001b[1;32m    764\u001b[0m \u001b[38;5;28;01mdef\u001b[39;00m \u001b[38;5;21mwait\u001b[39m(\u001b[38;5;28mself\u001b[39m, timeout\u001b[38;5;241m=\u001b[39m\u001b[38;5;28;01mNone\u001b[39;00m):\n\u001b[0;32m--> 765\u001b[0m     \u001b[38;5;28;43mself\u001b[39;49m\u001b[38;5;241;43m.\u001b[39;49m\u001b[43m_event\u001b[49m\u001b[38;5;241;43m.\u001b[39;49m\u001b[43mwait\u001b[49m\u001b[43m(\u001b[49m\u001b[43mtimeout\u001b[49m\u001b[43m)\u001b[49m\n",
      "File \u001b[0;32m~/anaconda3/envs/titan/lib/python3.12/threading.py:655\u001b[0m, in \u001b[0;36mEvent.wait\u001b[0;34m(self, timeout)\u001b[0m\n\u001b[1;32m    653\u001b[0m signaled \u001b[38;5;241m=\u001b[39m \u001b[38;5;28mself\u001b[39m\u001b[38;5;241m.\u001b[39m_flag\n\u001b[1;32m    654\u001b[0m \u001b[38;5;28;01mif\u001b[39;00m \u001b[38;5;129;01mnot\u001b[39;00m signaled:\n\u001b[0;32m--> 655\u001b[0m     signaled \u001b[38;5;241m=\u001b[39m \u001b[38;5;28;43mself\u001b[39;49m\u001b[38;5;241;43m.\u001b[39;49m\u001b[43m_cond\u001b[49m\u001b[38;5;241;43m.\u001b[39;49m\u001b[43mwait\u001b[49m\u001b[43m(\u001b[49m\u001b[43mtimeout\u001b[49m\u001b[43m)\u001b[49m\n\u001b[1;32m    656\u001b[0m \u001b[38;5;28;01mreturn\u001b[39;00m signaled\n",
      "File \u001b[0;32m~/anaconda3/envs/titan/lib/python3.12/threading.py:355\u001b[0m, in \u001b[0;36mCondition.wait\u001b[0;34m(self, timeout)\u001b[0m\n\u001b[1;32m    353\u001b[0m \u001b[38;5;28;01mtry\u001b[39;00m:    \u001b[38;5;66;03m# restore state no matter what (e.g., KeyboardInterrupt)\u001b[39;00m\n\u001b[1;32m    354\u001b[0m     \u001b[38;5;28;01mif\u001b[39;00m timeout \u001b[38;5;129;01mis\u001b[39;00m \u001b[38;5;28;01mNone\u001b[39;00m:\n\u001b[0;32m--> 355\u001b[0m         \u001b[43mwaiter\u001b[49m\u001b[38;5;241;43m.\u001b[39;49m\u001b[43macquire\u001b[49m\u001b[43m(\u001b[49m\u001b[43m)\u001b[49m\n\u001b[1;32m    356\u001b[0m         gotit \u001b[38;5;241m=\u001b[39m \u001b[38;5;28;01mTrue\u001b[39;00m\n\u001b[1;32m    357\u001b[0m     \u001b[38;5;28;01melse\u001b[39;00m:\n",
      "\u001b[0;31mKeyboardInterrupt\u001b[0m: "
     ]
    }
   ],
   "source": [
    "#I have a spectrum for UV photons, how do i cascade this with the PAHdb\n",
    "# Assuming you have a UV spectrum dictionary similar to the solar_spectrum dictionary\n",
    "uv_spectrum = {\n",
    "    \"frequency\": 1e8 / np.flip(wavel),  # Replace with your UV spectrum frequencies\n",
    "    \"intensity\": 1e3 *np.flip(irrad * wavel**2) / (4 * np.pi)   # Replace with your UV spectrum intensities\n",
    "}\n",
    "\n",
    "# Cascade with the UV spectrum\n",
    "transitions.cascade(uv_spectrum, star=True, stellar_model=True, convolved=True, multiprocessing=True)\n"
   ]
  },
  {
   "cell_type": "code",
   "execution_count": null,
   "metadata": {},
   "outputs": [],
   "source": [
    "# Calculate the emission spectrum at the temperature reached\n",
    "# after absorbing a 6 eV (CGS units) photon.\n",
    "transitions.cascade(energy_UV * 1.603e-12, multiprocessing=True) #Figure this out for Lopez-Puertas et al. 2013\n",
    "\n",
    "# Shift data 15 wavenumber to the red to mimic some effects of anharmonicity.\n",
    "transitions.shift(-15.0)"
   ]
  },
  {
   "cell_type": "code",
   "execution_count": null,
   "metadata": {},
   "outputs": [],
   "source": [
    "# Convolve the bands with a Gaussian with FWHM of 15 /cm.\n",
    "spectrum = transitions.convolve(\n",
    "    grid=obs.getgrid(), fwhm=15.0, gaussian=True, multiprocessing=False\n",
    ")"
   ]
  },
  {
   "cell_type": "code",
   "execution_count": null,
   "metadata": {},
   "outputs": [],
   "source": [
    "# Fit the spectrum\n",
    "fit = spectrum.fit(obs)"
   ]
  },
  {
   "cell_type": "code",
   "execution_count": null,
   "metadata": {},
   "outputs": [],
   "source": [
    "fit.plot(wavelength=True)\n",
    "fit.plot(wavelength=True, residual=True)\n"
   ]
  },
  {
   "cell_type": "code",
   "execution_count": null,
   "metadata": {},
   "outputs": [],
   "source": [
    "fit_info = fit.get()\n",
    "fit_info.keys()\n",
    "fit_info['weights']"
   ]
  },
  {
   "cell_type": "markdown",
   "metadata": {},
   "source": [
    "Get the molecular structure of the UID of the most present molecules in the fit"
   ]
  },
  {
   "cell_type": "code",
   "execution_count": null,
   "metadata": {},
   "outputs": [],
   "source": [
    "# Get the weights from fit_info\n",
    "weights = fit_info['weights']\n",
    "\n",
    "# Sort the uids by their weights in descending order\n",
    "sorted_uids_by_weight = sorted(uids_fit, key=lambda uid: weights[uid], reverse=True)\n",
    "\n",
    "# Print the uids and their formulas\n",
    "for uid in sorted_uids_by_weight:\n",
    "    species_uid = pahdb.getspeciesbyuid([uid]).get()\n",
    "    mol_for = species_uid['data'][uid]['formula']\n",
    "    print(f'The uid is: {uid}, the formula is: {mol_for}, the weight is: {weights[uid]}')\n"
   ]
  },
  {
   "cell_type": "code",
   "execution_count": 16,
   "metadata": {},
   "outputs": [],
   "source": [
    "#Shows contibution of large vs small particles\n",
    "# fit.plot(wavelength=True, size=True)"
   ]
  },
  {
   "cell_type": "code",
   "execution_count": 17,
   "metadata": {},
   "outputs": [],
   "source": [
    "#shows contribution of neutrals or charged molecules (not applicable now because only neutrals considered)\n",
    "# fit.plot(wavelength=True, charge=True)"
   ]
  },
  {
   "cell_type": "code",
   "execution_count": null,
   "metadata": {},
   "outputs": [],
   "source": [
    "#contribution from pure or nitrogen containing PAHs\n",
    "fit.plot(wavelength=True, composition=True)"
   ]
  },
  {
   "cell_type": "code",
   "execution_count": null,
   "metadata": {},
   "outputs": [],
   "source": [
    "# Predict 3.15 - 3.40 µm spectrum\n",
    "transitions.intersect(fit.getuids())\n",
    "spectrum = transitions.convolve(gaussian=True, multiprocessing=False, grid=obs.getgrid())\n",
    "coadded = spectrum.coadd(weights=fit.getweights())\n",
    "coadded.plot()"
   ]
  },
  {
   "cell_type": "code",
   "execution_count": 20,
   "metadata": {},
   "outputs": [],
   "source": [
    "#Get the fit spectrum so i can plot it in the next cell\n",
    "spectrum_output = fit.observation\n",
    "flux_values = spectrum_output.flux.value"
   ]
  },
  {
   "cell_type": "code",
   "execution_count": 21,
   "metadata": {},
   "outputs": [],
   "source": [
    "#get the original observed spectrum\n",
    "obs_output = obs.get()\n",
    "original_obs = obs_output['spectrum'].flux.value\n",
    "original_obs_x = obs_output['spectrum'].spectral_axis.value\n",
    "original_obs_x = 1e4/original_obs_x\n",
    "# help(obs)"
   ]
  },
  {
   "cell_type": "code",
   "execution_count": null,
   "metadata": {},
   "outputs": [],
   "source": [
    "plt.plot(coadded.grid, coadded.data[0], label='Coadded Spectrum', color = 'purple')\n",
    "# Plot the fit spectrum\n",
    "plt.plot(fit.grid, flux_values, label='Fit Spectrum', color = 'orange')\n",
    "plt.plot(original_obs_x, original_obs, label='Original Spectrum', color = 'blue')\n",
    "#invert the x-axis to show the wavenumbers in increasing order\n",
    "plt.gca().invert_xaxis()\n",
    "\n",
    "# Add labels and legend\n",
    "plt.xlabel('Wavelength (µm)')\n",
    "plt.ylabel('Intensity')\n",
    "plt.legend()\n",
    "plt.title('Coadded and Fit Spectra')\n",
    "\n",
    "# Show the plot\n",
    "plt.show()"
   ]
  },
  {
   "cell_type": "markdown",
   "metadata": {},
   "source": [
    "# Monte Carlo Fit"
   ]
  },
  {
   "cell_type": "code",
   "execution_count": null,
   "metadata": {},
   "outputs": [],
   "source": [
    "# Fit the spectrum using Monte Carlo approach.\n",
    "mcfit = spectrum.mcfit(obs, samples=1024, multiprocessing=False)"
   ]
  },
  {
   "cell_type": "code",
   "execution_count": null,
   "metadata": {},
   "outputs": [],
   "source": [
    "# mcfit.plot(wavelength=True)\n",
    "mcfit.plot(wavelength=True, residual=True)\n",
    "mcfit.plot(wavelength=True, size=True)\n",
    "mcfit.plot(wavelength=True, charge=True)\n",
    "# mcfit.plot(wavelength=True, composition=True)\n",
    "# mcfit.plot(wavelength=True, save=True, ftype=\"pdf\")"
   ]
  },
  {
   "cell_type": "code",
   "execution_count": null,
   "metadata": {},
   "outputs": [],
   "source": [
    "mcfit_info = mcfit.get()\n",
    "mcfit_info"
   ]
  },
  {
   "cell_type": "code",
   "execution_count": null,
   "metadata": {},
   "outputs": [],
   "source": [
    "mcfit.getfit()"
   ]
  },
  {
   "cell_type": "code",
   "execution_count": null,
   "metadata": {},
   "outputs": [],
   "source": [
    "mcfit.getbreakdown()"
   ]
  }
 ],
 "metadata": {
  "kernelspec": {
   "display_name": "titan",
   "language": "python",
   "name": "titan"
  },
  "language_info": {
   "codemirror_mode": {
    "name": "ipython",
    "version": 3
   },
   "file_extension": ".py",
   "mimetype": "text/x-python",
   "name": "python",
   "nbconvert_exporter": "python",
   "pygments_lexer": "ipython3",
   "version": "3.12.5"
  }
 },
 "nbformat": 4,
 "nbformat_minor": 2
}
