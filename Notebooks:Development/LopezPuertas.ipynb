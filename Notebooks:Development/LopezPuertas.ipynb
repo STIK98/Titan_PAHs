{
 "cells": [
  {
   "cell_type": "markdown",
   "metadata": {},
   "source": [
    "# Lopéz-Puertas et al. 2013"
   ]
  },
  {
   "cell_type": "markdown",
   "metadata": {},
   "source": [
    "This notebook focusses on replicating the work of Lopéz-Puertas at al. (2013), where the researchers looked for PAHs making up the 3.3 μm emission recorded in VIMS data of Titan's upper atmosphere. This research used V1.20 of the NASA Ames PAH database for infrared spectroscopy and confirmed the presence of several PAHs"
   ]
  },
  {
   "cell_type": "code",
   "execution_count": 110,
   "metadata": {},
   "outputs": [],
   "source": [
    "#import packages\n",
    "import numpy as np\n",
    "from amespahdbpythonsuite import observation\n",
    "from amespahdbpythonsuite.amespahdb import AmesPAHdb\n",
    "import matplotlib.pyplot as plt\n",
    "from specutils import Spectrum1D\n"
   ]
  },
  {
   "cell_type": "code",
   "execution_count": 111,
   "metadata": {},
   "outputs": [],
   "source": [
    "#read in the data file in ipac table format with the wavelength in microns and the flux in Jy\n",
    "# data_file = \"/Users/floorstikkelbroeck/Documents/Titan/titan_spec_900.ipac\"\n",
    "# data_file = \"/Users/floorstikkelbroeck/Documents/Titan/titan_spec_950.ipac\"\n",
    "data_file = \"/Users/floorstikkelbroeck/Documents/Titan/titan_spec_1000.ipac\"\n",
    "obs = observation.Observation(data_file)\n",
    "obs.abscissaunitsto(\"1/cm\") #convert the wavelength to wavenumbers"
   ]
  },
  {
   "cell_type": "code",
   "execution_count": 112,
   "metadata": {},
   "outputs": [
    {
     "name": "stdout",
     "output_type": "stream",
     "text": [
      "=========================================================\n",
      "                 AmesPAHdbPythonSuite\n",
      "                 \n",
      "                          by\n",
      "                          \n",
      "                Dr. Christiaan Boersma\n",
      "                \n",
      "                          and\n",
      "                         \n",
      "             Dr. Alexandros Maragkoudakis\n",
      "             \n",
      "               Dr. Matthew J. Shannanon\n",
      "               \n",
      "                  Dr. Joseph E. Roser\n",
      "                 \n",
      "=========================================================\n",
      "\n",
      "=========================================================\n",
      "          SUITE VERSION: 0.5.0.post62+g09a79ed         \n",
      "=========================================================\n",
      "\n",
      "=========================================================\n",
      "        WEBSITE: HTTP://WWW.ASTROCHEM.ORG/PAHDB/       \n",
      "=========================================================\n",
      "\n",
      "=========================================================\n",
      "          CONTACT: CHRISTIAAN.BOERSMA@NASA.GOV         \n",
      "=========================================================\n",
      "\n",
      "=========================================================\n",
      "     PARSING DATABASE: THIS MAY TAKE A FEW MINUTES     \n",
      "=========================================================\n",
      "\n",
      "==\n",
      "FILENAME                    : /var/folders/vv/2nq91_0d0lsfm6gcskyz__r40000gn/T/a80b922979ad89624d56b35e6a3a1f28.pkl\n",
      "PARSE TIME                  : 0:00:02.784929\n",
      "VERSION (DATE)              : 1.20 (2011-01-13)\n",
      "COMMENT                     : \n",
      "\n",
      "This is the NASA Ames PAH IR Spectroscopic Database. The contents of\n",
      "the database are described in Bauschlicher et al. (2010), Boersma et\n",
      "al. (2014) and Mattioda et al. (2020). The database website is located\n",
      "at https://www.astrochemistry.org/pahdb/.\n",
      "\n",
      "You are kindly asked to cite the following papers when using the database:\n",
      "\n",
      "    Boersma, C., Bauschlicher, C.W., Jr., Ricca, A., Mattioda, A. L.,\n",
      "    Cami, J., Peeters, E., Sánchez de Armas, F., Puerta Saborido, G.,\n",
      "    Hudgins, D M., and Allamandola, L.J., \"The NASA Ames PAH IR Spectroscopic\n",
      "    database version 2.00: updated content, website and on/offline tools\",\n",
      "    2014, The Astrophysical Journal Supplement Series, 211, 8\n",
      "\n",
      "    A copy of the paper can be downloaded from NASA&apos;s ADS services:\n",
      "\n",
      "    http://adsabs.harvard.edu/cgi-bin/nph-data_query?bibcode=2014ApJS..211....8B&link_type=ARTICLE&db_key=AST&nocookies=1\n",
      "\n",
      "    Bauschlicher, C.W., Jr., Boersma, C., Ricca, A., Mattioda, A. L.,\n",
      "    Cami, J., Peeters, E., Sánchez de Armas, F., Puerta Saborido, G.,\n",
      "    Hudgins, D M., and Allamandola, L.J., \"The NASA Ames Polycyclic\n",
      "    Aromatic Hydrocarbon Infrared Spectroscopic Database: The Computed\n",
      "    Spectra\", 2010, The Astrophysical Journal Supplement Series, 189, 341\n",
      "\n",
      "    A copy of the paper can be downloaded from NASA&apos;s ADS services:\n",
      "\n",
      "    http://adsabs.harvard.edu/cgi-bin/nph-data_query?bibcode=2010ApJS..189..341B&link_type=ARTICLE&db_key=AST&nocookies=1\n",
      "\n",
      "    Mattioda, A.L., Hudgins, D.M., Boersma, C., Ricca, A., Peeters,\n",
      "    E., Cami, J., Sánches de Armas, F., Puerta Saborido, G.,\n",
      "    Bauschlicher, C W., J., and Allamandola, L.J. \"The Nasa Ames PAH\n",
      "    IR Spectroscopic Database: The Laboratory Spectra\", 2020, The\n",
      "    Astrophysical Journal Supplement Series, 251, 22\n",
      "\n",
      "    A copy of the paper can be downloaded from NASA&apos;s ADS services:\n",
      "\n",
      "    http://adsabs.harvard.edu/cgi-bin/nph-data_query?bibcode=2020ApJS..251...22M &link_type=ARTICLE&db_key=AST&nocookies=1\n",
      "\n",
      "    Also see https://www.astrochemistry.org/pahdb/theoretical/3.20/help/citation.\n",
      "Notes:\n",
      "    Complete theoretical database\n",
      "\n",
      "==\n",
      "\n"
     ]
    }
   ],
   "source": [
    "#load in the PAHdb with version 1.20 to mimic Lopéz-Puertas et al. 2013\n",
    "# xml_file = \"/Users/floorstikkelbroeck/Documents/Titan/PAHdb/pahdb-theoretical.xml\"\n",
    "xml_file = \"/Users/floorstikkelbroeck/Documents/Titan/PAHdb/pahdb-theoretical-v1.20.xml\"\n",
    "pahdb = AmesPAHdb(\n",
    "    filename=xml_file,\n",
    "    check=False,\n",
    "    cache=False,\n",
    ")"
   ]
  },
  {
   "cell_type": "markdown",
   "metadata": {},
   "source": [
    "The database version of 1.20 contains 604 PAHs, including neutrals, cations and anions. We will not include:\n",
    " - Charged particals (not anticipated at that height, and low efficiencies)\n",
    " - species containing Magnesium, iron, silicon, oxygen\n",
    "\n",
    "This will reduce the dataset to 202 PAHs"
   ]
  },
  {
   "cell_type": "code",
   "execution_count": 113,
   "metadata": {},
   "outputs": [],
   "source": [
    "# Retrieve the transitions from the database for the subset of PAHs.\n",
    "uids = pahdb.search(\"neutral mg=0 fe=0 si=0 o=0 c<10\")\n",
    "transitions = pahdb.gettransitionsbyuid(uids)"
   ]
  },
  {
   "cell_type": "code",
   "execution_count": 114,
   "metadata": {},
   "outputs": [
    {
     "data": {
      "text/plain": [
       "4"
      ]
     },
     "execution_count": 114,
     "metadata": {},
     "output_type": "execute_result"
    }
   ],
   "source": [
    "#Check the number of PAHs in the database\n",
    "show = transitions.get()\n",
    "show.keys()\n",
    "len(show['uids']) #should be 202 PAHs, I am missing one??"
   ]
  },
  {
   "cell_type": "code",
   "execution_count": 115,
   "metadata": {
    "vscode": {
     "languageId": "javascript"
    }
   },
   "outputs": [],
   "source": [
    "from SORCE import collect_irradiance_data\n",
    "irradiance_data = collect_irradiance_data()\n",
    "wavel = np.array(irradiance_data['august']['wavelengths'])\n",
    "irrad = np.array(irradiance_data['august']['irradiances'])\n"
   ]
  },
  {
   "cell_type": "code",
   "execution_count": 116,
   "metadata": {},
   "outputs": [],
   "source": [
    "#I have a spectrum for UV photons, how do i cascade this with the PAHdb\n",
    "# Assuming you have a UV spectrum dictionary similar to the solar_spectrum dictionary\n",
    "uv_spectrum = {\n",
    "    \"frequency\": 1e7 / np.flip(wavel),  # frequency in nm\n",
    "    \"intensity\": 1e-4 *np.flip(irrad * wavel**2) / (4 * np.pi)   # Replace with your UV spectrum intensities\n",
    "}\n"
   ]
  },
  {
   "cell_type": "code",
   "execution_count": 117,
   "metadata": {},
   "outputs": [],
   "source": [
    "#plot the converted data, frequency and intensity\n",
    "# plt.plot(uv_spectrum['frequency'], uv_spectrum['intensity'])\n",
    "# plt.xlabel('Frequency [cm^-1]')\n",
    "# plt.ylabel('Intensity [W/m^2/Hz/sr]')\n",
    "# plt.show()"
   ]
  },
  {
   "cell_type": "code",
   "execution_count": 118,
   "metadata": {},
   "outputs": [
    {
     "name": "stdout",
     "output_type": "stream",
     "text": [
      "=========================================================\n",
      "            APPLYING CASCADE EMISSION MODEL            \n",
      "=========================================================\n",
      "\n",
      "=========================================================\n",
      " STELLAR MODEL SELECTED: USING FIRST PARAMETER AS MODEL\n",
      "=========================================================\n",
      "\n",
      "=========================================================\n",
      "          REBINNING STELLAR MODEL: 100 POINTS          \n",
      "=========================================================\n",
      "\n",
      "=========================================================\n",
      "CALCULATED EFFECTIVE TEMPERATURE: 390.7633515171403 Kelvin\n",
      "=========================================================\n",
      "\n",
      "=========================================================\n",
      "         CONVOLVING WITH ENTIRE RADIATION FIELD        \n",
      "=========================================================\n",
      "\n",
      "=========================================================\n",
      "SPECIES                          : 1/4\n",
      "UID                              : 493\n",
      "MEAN ABSORBED ENERGY             : 3.371071970284385 +/- 0.7102877713772469 eV\n",
      "MAXIMUM ATTAINED TEMPERATURE     : 1624.8640239938525 Kelvin\n",
      "ENERGY CONSERVATION IN SPECTRUM  : 0.0\n",
      "ELAPSED TIME                     : 0:00:06.341376\n",
      "=========================================================\n",
      "SPECIES                          : 2/4\n",
      "UID                              : 495\n",
      "MEAN ABSORBED ENERGY             : 3.371071970284385 +/- 0.7102877713772469 eV\n",
      "MAXIMUM ATTAINED TEMPERATURE     : 1563.6202350978724 Kelvin\n",
      "ENERGY CONSERVATION IN SPECTRUM  : 0.0\n",
      "ELAPSED TIME                     : 0:00:06.589359\n",
      "=========================================================\n",
      "SPECIES                          : 3/4\n",
      "UID                              : 485\n",
      "MEAN ABSORBED ENERGY             : 3.371071970284385 +/- 0.7102877713772469 eV\n",
      "MAXIMUM ATTAINED TEMPERATURE     : 1551.5630587256176 Kelvin\n",
      "ENERGY CONSERVATION IN SPECTRUM  : 0.0\n",
      "ELAPSED TIME                     : 0:00:07.063775\n",
      "=========================================================\n",
      "SPECIES                          : 4/4\n",
      "UID                              : 483\n",
      "MEAN ABSORBED ENERGY             : 3.371071970284385 +/- 0.7102877713772469 eV\n",
      "MAXIMUM ATTAINED TEMPERATURE     : 1551.4809692320928 Kelvin\n",
      "ENERGY CONSERVATION IN SPECTRUM  : 0.0\n",
      "ELAPSED TIME                     : 0:00:07.042323\n",
      "=========================================================\n",
      "\n"
     ]
    },
    {
     "name": "stderr",
     "output_type": "stream",
     "text": [
      "/Users/floorstikkelbroeck/anaconda3/envs/titan/lib/python3.12/site-packages/amespahdbpythonsuite/transitions.py:942: RuntimeWarning: overflow encountered in power\n",
      "  3458e-20 * 10.0 ** (-3.431 * wave)\n"
     ]
    }
   ],
   "source": [
    "# Cascade with the UV spectrum\n",
    "transitions.cascade(uv_spectrum, star=True, stellar_model=True, convolved=True, multiprocessing=False, cache=False)"
   ]
  },
  {
   "cell_type": "code",
   "execution_count": null,
   "metadata": {},
   "outputs": [],
   "source": [
    "# Convolve the bands with a Gaussian with FWHM of 15 /cm.\n",
    "transitions.shift(-15.0) \n",
    "\n",
    "spectrum = transitions.convolve(\n",
    "    grid=obs.getgrid(), fwhm=15.0, gaussian=True, multiprocessing=False\n",
    ")"
   ]
  },
  {
   "cell_type": "code",
   "execution_count": null,
   "metadata": {},
   "outputs": [],
   "source": [
    "#check the obs array for inf or NaN values\n",
    "nan_indices = np.where(np.isnan(obs.get()['spectrum'].flux.value))\n",
    "print(\"Indices with NaN values:\", nan_indices)\n",
    "# np.all(np.isfinite(obs.get()))\n"
   ]
  },
  {
   "cell_type": "code",
   "execution_count": null,
   "metadata": {},
   "outputs": [],
   "source": [
    "spectrum.get().keys()"
   ]
  },
  {
   "cell_type": "code",
   "execution_count": null,
   "metadata": {},
   "outputs": [],
   "source": [
    "spectrum.get()['data']"
   ]
  },
  {
   "cell_type": "code",
   "execution_count": null,
   "metadata": {},
   "outputs": [],
   "source": [
    "# Fit the spectrum\n",
    "fit = spectrum.fit(obs)"
   ]
  },
  {
   "cell_type": "code",
   "execution_count": null,
   "metadata": {},
   "outputs": [],
   "source": [
    "fit.plot(wavelength=True)\n",
    "fit.plot(wavelength=True, residual=True)\n"
   ]
  },
  {
   "cell_type": "code",
   "execution_count": null,
   "metadata": {},
   "outputs": [],
   "source": [
    "fit_info = fit.get()\n",
    "fit_info.keys()\n",
    "fit_info['weights']"
   ]
  },
  {
   "cell_type": "markdown",
   "metadata": {},
   "source": [
    "Get the molecular structure of the UID of the most present molecules in the fit"
   ]
  },
  {
   "cell_type": "code",
   "execution_count": null,
   "metadata": {},
   "outputs": [],
   "source": [
    "# Get the weights from fit_info\n",
    "weights = fit_info['weights']\n",
    "\n",
    "# Sort the uids by their weights in descending order\n",
    "sorted_uids_by_weight = sorted(fit_info['uids'], key=lambda uid: weights[uid], reverse=True)\n",
    "\n",
    "# Print the uids and their formulas\n",
    "for uid in sorted_uids_by_weight:\n",
    "    species_uid = pahdb.getspeciesbyuid([uid]).get()\n",
    "    mol_for = species_uid['data'][uid]['formula']\n",
    "    print(f'The uid is: {uid}, the formula is: {mol_for}, the weight is: {weights[uid]}')\n"
   ]
  },
  {
   "cell_type": "code",
   "execution_count": 16,
   "metadata": {},
   "outputs": [],
   "source": [
    "#Shows contibution of large vs small particles\n",
    "# fit.plot(wavelength=True, size=True)"
   ]
  },
  {
   "cell_type": "code",
   "execution_count": 17,
   "metadata": {},
   "outputs": [],
   "source": [
    "#shows contribution of neutrals or charged molecules (not applicable now because only neutrals considered)\n",
    "# fit.plot(wavelength=True, charge=True)"
   ]
  },
  {
   "cell_type": "code",
   "execution_count": null,
   "metadata": {},
   "outputs": [],
   "source": [
    "#contribution from pure or nitrogen containing PAHs\n",
    "fit.plot(wavelength=True, composition=True)"
   ]
  },
  {
   "cell_type": "code",
   "execution_count": null,
   "metadata": {},
   "outputs": [],
   "source": [
    "# Predict 3.15 - 3.40 µm spectrum\n",
    "transitions.intersect(fit.getuids())\n",
    "spectrum = transitions.convolve(gaussian=True, multiprocessing=False, grid=obs.getgrid())\n",
    "coadded = spectrum.coadd(weights=fit.getweights())\n",
    "coadded.plot()"
   ]
  },
  {
   "cell_type": "code",
   "execution_count": 19,
   "metadata": {},
   "outputs": [],
   "source": [
    "#Get the fit spectrum so i can plot it in the next cell\n",
    "spectrum_output = fit.observation\n",
    "flux_values = spectrum_output.flux.value"
   ]
  },
  {
   "cell_type": "code",
   "execution_count": 22,
   "metadata": {},
   "outputs": [],
   "source": [
    "#get the original observed spectrum\n",
    "obs_output = obs.get()\n",
    "original_obs = obs_output['spectrum'].flux.value\n",
    "original_obs_x = obs_output['spectrum'].spectral_axis.value\n",
    "# original_obs_x = 1e4/original_obs_x\n",
    "# help(obs)"
   ]
  },
  {
   "cell_type": "code",
   "execution_count": null,
   "metadata": {},
   "outputs": [],
   "source": [
    "plt.plot(coadded.grid, coadded.data[0], label='Coadded Spectrum', color = 'purple')\n",
    "# Plot the fit spectrum\n",
    "plt.plot(fit.grid, flux_values, label='Fit Spectrum', color = 'orange')\n",
    "plt.plot(original_obs_x, original_obs, label='Original Spectrum', color = 'blue')\n",
    "#invert the x-axis to show the wavenumbers in increasing order\n",
    "plt.gca().invert_xaxis()\n",
    "\n",
    "# Add labels and legend\n",
    "plt.xlabel('Wavelength (µm)')\n",
    "plt.ylabel('Intensity')\n",
    "plt.legend()\n",
    "plt.title('Coadded and Fit Spectra')\n",
    "\n",
    "# Show the plot\n",
    "plt.show()"
   ]
  },
  {
   "cell_type": "markdown",
   "metadata": {},
   "source": [
    "# Monte Carlo Fit"
   ]
  },
  {
   "cell_type": "code",
   "execution_count": null,
   "metadata": {},
   "outputs": [],
   "source": [
    "# Fit the spectrum using Monte Carlo approach.\n",
    "mcfit = spectrum.mcfit(obs, samples=1024, multiprocessing=False)"
   ]
  },
  {
   "cell_type": "code",
   "execution_count": null,
   "metadata": {},
   "outputs": [],
   "source": [
    "# mcfit.plot(wavelength=True)\n",
    "mcfit.plot(wavelength=True, residual=True)\n",
    "mcfit.plot(wavelength=True, size=True)\n",
    "mcfit.plot(wavelength=True, charge=True)\n",
    "# mcfit.plot(wavelength=True, composition=True)\n",
    "# mcfit.plot(wavelength=True, save=True, ftype=\"pdf\")"
   ]
  },
  {
   "cell_type": "code",
   "execution_count": null,
   "metadata": {},
   "outputs": [],
   "source": [
    "mcfit_info = mcfit.get()\n",
    "mcfit_info"
   ]
  },
  {
   "cell_type": "code",
   "execution_count": null,
   "metadata": {},
   "outputs": [],
   "source": [
    "mcfit.getfit()"
   ]
  },
  {
   "cell_type": "code",
   "execution_count": null,
   "metadata": {},
   "outputs": [],
   "source": [
    "mcfit.getbreakdown()"
   ]
  }
 ],
 "metadata": {
  "kernelspec": {
   "display_name": "titan",
   "language": "python",
   "name": "titan"
  },
  "language_info": {
   "codemirror_mode": {
    "name": "ipython",
    "version": 3
   },
   "file_extension": ".py",
   "mimetype": "text/x-python",
   "name": "python",
   "nbconvert_exporter": "python",
   "pygments_lexer": "ipython3",
   "version": "3.12.5"
  }
 },
 "nbformat": 4,
 "nbformat_minor": 2
}
